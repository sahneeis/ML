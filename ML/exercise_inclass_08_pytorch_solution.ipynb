{
 "cells": [
  {
   "cell_type": "markdown",
   "id": "c061d2e9",
   "metadata": {
    "id": "GstEgGSzlo0F"
   },
   "source": [
    "# In-class exercise 8: PyTorch from the bottom up"
   ]
  },
  {
   "cell_type": "markdown",
   "id": "68d58383",
   "metadata": {
    "id": "9hjDkYQQlo0H"
   },
   "source": [
    "Based on Jeremy Howard's PyTorch tutorial \"What is torch.nn really?\""
   ]
  },
  {
   "cell_type": "markdown",
   "id": "cd9de177",
   "metadata": {
    "id": "8u0GMqSjlo0H"
   },
   "source": [
    "In this tutorial we will start at [PyTorch](https://pytorch.org/docs)'s lowest layer and then gradually introduce functions and features until we arrive at `nn.Sequential`. Lower layers give you more control over what you want to do, while higher layers allow for faster implementations. So in practice you have to choose at which layer you want to work. Moreover, knowing how the lower layers work will give you a better understanding of what is happening behind the scenes when working with the higher level abstractions."
   ]
  },
  {
   "cell_type": "code",
   "execution_count": 35,
   "id": "ae811be2-bb28-4456-83e1-af05d1a9f78c",
   "metadata": {
    "id": "79BtAGkNlo0H"
   },
   "outputs": [],
   "source": [
    "import copy\n",
    "import math\n",
    "import random\n",
    "from typing import Callable\n",
    "\n",
    "import matplotlib.pyplot as plt\n",
    "import numpy as np\n",
    "import torch\n",
    "import torchvision\n",
    "from beartype import beartype\n",
    "from jaxtyping import Float\n",
    "from torch import Tensor\n",
    "from torchvision.transforms import v2"
   ]
  },
  {
   "cell_type": "markdown",
   "id": "ac6e9cfb-e960-4c98-86d7-6535ab8554db",
   "metadata": {
    "id": "79BtAGkNlo0H"
   },
   "source": [
    "A quick example:\n",
    "To make our code more clean and readable, we make use of **type annotations**. These are not necessary, but can be very helpful when working with Python and PyTorch. We also use the `beartype` decorator to make sure that our code is type-checked."
   ]
  },
  {
   "cell_type": "code",
   "execution_count": 38,
   "id": "dd97722b-793b-46d4-96e5-65da38e33181",
   "metadata": {
    "id": "79BtAGkNlo0H"
   },
   "outputs": [],
   "source": [
    "@beartype\n",
    "def sum(x: int, y: int | float) -> int | float:\n",
    "    return x + y"
   ]
  },
  {
   "cell_type": "code",
   "execution_count": 40,
   "id": "646fb663-f903-4409-8473-b739e8dc217b",
   "metadata": {
    "id": "79BtAGkNlo0H"
   },
   "outputs": [
    {
     "data": {
      "text/plain": [
       "3"
      ]
     },
     "execution_count": 40,
     "metadata": {},
     "output_type": "execute_result"
    }
   ],
   "source": [
    "a = sum(1, 2)\n",
    "a"
   ]
  },
  {
   "cell_type": "code",
   "execution_count": 46,
   "id": "ec681059-f1d8-4883-9b92-e24fafecc05c",
   "metadata": {
    "id": "79BtAGkNlo0H"
   },
   "outputs": [
    {
     "data": {
      "text/plain": [
       "2.2"
      ]
     },
     "execution_count": 46,
     "metadata": {},
     "output_type": "execute_result"
    }
   ],
   "source": [
    "b = sum(1, 1.2)\n",
    "b"
   ]
  },
  {
   "cell_type": "markdown",
   "id": "76ce9dd7",
   "metadata": {
    "id": "y6rWllt0lo0I"
   },
   "source": [
    "# Download the data\n",
    "In this tutorial we will be working with the **MNIST dataset**. This is a classic dataset consisting of gray-scale images of hand-drawn digits.\n",
    "\n",
    "We will use [torchvision](https://pytorch.org/vision/stable/index.html) to download the dataset. Torchvision also provides a lot of functionality for data preprocessing and augmentation, which is beyond the scope of this tutorial."
   ]
  },
  {
   "cell_type": "code",
   "execution_count": 23,
   "id": "bb2e0ef4",
   "metadata": {
    "id": "5x14sUfIlo0I"
   },
   "outputs": [
    {
     "name": "stdout",
     "output_type": "stream",
     "text": [
      "Downloading http://yann.lecun.com/exdb/mnist/train-images-idx3-ubyte.gz\n",
      "Failed to download (trying next):\n",
      "HTTP Error 403: Forbidden\n",
      "\n",
      "Downloading https://ossci-datasets.s3.amazonaws.com/mnist/train-images-idx3-ubyte.gz\n",
      "Downloading https://ossci-datasets.s3.amazonaws.com/mnist/train-images-idx3-ubyte.gz to ./data\\MNIST\\raw\\train-images-idx3-ubyte.gz\n"
     ]
    },
    {
     "name": "stderr",
     "output_type": "stream",
     "text": [
      "100%|█████████████████████████████████████████████████████████████████████████████| 9.91M/9.91M [00:02<00:00, 4.50MB/s]\n"
     ]
    },
    {
     "name": "stdout",
     "output_type": "stream",
     "text": [
      "Extracting ./data\\MNIST\\raw\\train-images-idx3-ubyte.gz to ./data\\MNIST\\raw\n",
      "\n",
      "Downloading http://yann.lecun.com/exdb/mnist/train-labels-idx1-ubyte.gz\n",
      "Failed to download (trying next):\n",
      "HTTP Error 403: Forbidden\n",
      "\n",
      "Downloading https://ossci-datasets.s3.amazonaws.com/mnist/train-labels-idx1-ubyte.gz\n",
      "Downloading https://ossci-datasets.s3.amazonaws.com/mnist/train-labels-idx1-ubyte.gz to ./data\\MNIST\\raw\\train-labels-idx1-ubyte.gz\n"
     ]
    },
    {
     "name": "stderr",
     "output_type": "stream",
     "text": [
      "100%|██████████████████████████████████████████████████████████████████████████████| 28.9k/28.9k [00:00<00:00, 286kB/s]\n"
     ]
    },
    {
     "name": "stdout",
     "output_type": "stream",
     "text": [
      "Extracting ./data\\MNIST\\raw\\train-labels-idx1-ubyte.gz to ./data\\MNIST\\raw\n",
      "\n",
      "Downloading http://yann.lecun.com/exdb/mnist/t10k-images-idx3-ubyte.gz\n",
      "Failed to download (trying next):\n",
      "HTTP Error 403: Forbidden\n",
      "\n",
      "Downloading https://ossci-datasets.s3.amazonaws.com/mnist/t10k-images-idx3-ubyte.gz\n",
      "Downloading https://ossci-datasets.s3.amazonaws.com/mnist/t10k-images-idx3-ubyte.gz to ./data\\MNIST\\raw\\t10k-images-idx3-ubyte.gz\n"
     ]
    },
    {
     "name": "stderr",
     "output_type": "stream",
     "text": [
      "100%|█████████████████████████████████████████████████████████████████████████████| 1.65M/1.65M [00:00<00:00, 2.80MB/s]\n"
     ]
    },
    {
     "name": "stdout",
     "output_type": "stream",
     "text": [
      "Extracting ./data\\MNIST\\raw\\t10k-images-idx3-ubyte.gz to ./data\\MNIST\\raw\n",
      "\n",
      "Downloading http://yann.lecun.com/exdb/mnist/t10k-labels-idx1-ubyte.gz\n",
      "Failed to download (trying next):\n",
      "HTTP Error 403: Forbidden\n",
      "\n",
      "Downloading https://ossci-datasets.s3.amazonaws.com/mnist/t10k-labels-idx1-ubyte.gz\n",
      "Downloading https://ossci-datasets.s3.amazonaws.com/mnist/t10k-labels-idx1-ubyte.gz to ./data\\MNIST\\raw\\t10k-labels-idx1-ubyte.gz\n"
     ]
    },
    {
     "name": "stderr",
     "output_type": "stream",
     "text": [
      "100%|█████████████████████████████████████████████████████████████████████████████| 4.54k/4.54k [00:00<00:00, 5.47MB/s]"
     ]
    },
    {
     "name": "stdout",
     "output_type": "stream",
     "text": [
      "Extracting ./data\\MNIST\\raw\\t10k-labels-idx1-ubyte.gz to ./data\\MNIST\\raw\n",
      "\n"
     ]
    },
    {
     "name": "stderr",
     "output_type": "stream",
     "text": [
      "\n"
     ]
    }
   ],
   "source": [
    "# download MNIST dataset\n",
    "mnist_train = torchvision.datasets.MNIST(\"./data\", train=True, download=True)\n",
    "mnist_test = torchvision.datasets.MNIST(\"./data\", train=False, download=True)"
   ]
  },
  {
   "cell_type": "markdown",
   "id": "73bc7cee",
   "metadata": {
    "id": "eNbocEHOlo0J"
   },
   "source": [
    "MNIST consists of 70,000 28x28 images, each corresponding to a single digit (0 to 9), divided into 60,000 training images and 10,000 test images."
   ]
  },
  {
   "cell_type": "code",
   "execution_count": 25,
   "id": "e0ab7aa3",
   "metadata": {
    "colab": {
     "base_uri": "https://localhost:8080/",
     "height": 319
    },
    "id": "wueUC_ujlo0J",
    "outputId": "47197447-e162-40cb-9d27-9dea02f00492"
   },
   "outputs": [
    {
     "data": {
      "text/plain": [
       "(Dataset MNIST\n",
       "     Number of datapoints: 60000\n",
       "     Root location: ./data\n",
       "     Split: Train,\n",
       " Dataset MNIST\n",
       "     Number of datapoints: 10000\n",
       "     Root location: ./data\n",
       "     Split: Test)"
      ]
     },
     "execution_count": 25,
     "metadata": {},
     "output_type": "execute_result"
    }
   ],
   "source": [
    "mnist_train, mnist_test"
   ]
  },
  {
   "cell_type": "markdown",
   "id": "963b6476",
   "metadata": {},
   "source": [
    "The MNIST dataset provided by torchvision is a subclass of `torch.utils.data.Dataset`. This is a PyTorch class that allows you to easily load and process data. It is a very useful class that you will use a lot when working with PyTorch."
   ]
  },
  {
   "cell_type": "markdown",
   "id": "965ad306",
   "metadata": {},
   "source": [
    "The input data $\\mathbf{X}$ and targets $\\mathbf{y}$ are saved in `data` and `targets`, so we will at first just extract these and work with the raw data."
   ]
  },
  {
   "cell_type": "code",
   "execution_count": 29,
   "id": "bd193c96",
   "metadata": {},
   "outputs": [],
   "source": [
    "imgs, labels = mnist_train.data, mnist_train.targets\n",
    "imgs = imgs.unsqueeze(dim=1)"
   ]
  },
  {
   "cell_type": "code",
   "execution_count": 31,
   "id": "d8b4338d",
   "metadata": {},
   "outputs": [
    {
     "name": "stdout",
     "output_type": "stream",
     "text": [
      "torch.Size([60000, 1, 28, 28]) torch.uint8 tensor(0, dtype=torch.uint8) tensor(255, dtype=torch.uint8)\n",
      "torch.Size([60000]) torch.int64 tensor(0) tensor(9)\n"
     ]
    }
   ],
   "source": [
    "print(imgs.shape, imgs.dtype, imgs.min(), imgs.max())\n",
    "print(labels.shape, labels.dtype, labels.min(), labels.max())"
   ]
  },
  {
   "cell_type": "markdown",
   "id": "ae30db84",
   "metadata": {},
   "source": [
    "Let's have a look at the first 10 images in the dataset."
   ]
  },
  {
   "cell_type": "code",
   "execution_count": 48,
   "id": "96c64db0",
   "metadata": {},
   "outputs": [
    {
     "data": {
      "image/png": "[encoded data removed]",
      "text/plain": [
       "<Figure size 1000x400 with 10 Axes>"
      ]
     },
     "metadata": {},
     "output_type": "display_data"
    }
   ],
   "source": [
    "# plot the first 10 images\n",
    "fig, ax = plt.subplots(2, 5, figsize=(10, 4))\n",
    "for i in range(10):\n",
    "    ax[i // 5, i % 5].imshow(imgs[i, 0], cmap=\"gray\")\n",
    "    ax[i // 5, i % 5].set_title(f\"Label: {labels[i]}\")\n",
    "    ax[i // 5, i % 5].axis(\"off\")\n",
    "plt.tight_layout()\n",
    "plt.show()"
   ]
  },
  {
   "cell_type": "markdown",
   "id": "70db94dd",
   "metadata": {},
   "source": [
    "We convert them to values between 0 and 1."
   ]
  },
  {
   "cell_type": "code",
   "execution_count": 51,
   "id": "089add51",
   "metadata": {},
   "outputs": [],
   "source": [
    "imgs = imgs / 255.0"
   ]
  },
  {
   "cell_type": "markdown",
   "id": "b7a3eb94",
   "metadata": {},
   "source": [
    "Note that setting `train=True` gives you the development set, i.e. both training and validation data. So we need to **split** this further into a training and validation set."
   ]
  },
  {
   "cell_type": "code",
   "execution_count": 54,
   "id": "6ade55c1",
   "metadata": {},
   "outputs": [],
   "source": [
    "# split the dataset into train and validation\n",
    "NUM_TRAIN = 50_000\n",
    "\n",
    "x_train, y_train = imgs[:NUM_TRAIN], labels[:NUM_TRAIN]\n",
    "x_val, y_val = imgs[NUM_TRAIN:], labels[NUM_TRAIN:]"
   ]
  },
  {
   "cell_type": "markdown",
   "id": "1abccaa3",
   "metadata": {},
   "source": [
    "Let us define the test set as well."
   ]
  },
  {
   "cell_type": "code",
   "execution_count": 57,
   "id": "c0f8dc5a",
   "metadata": {},
   "outputs": [],
   "source": [
    "x_test = (mnist_test.data / 255.0)\n",
    "y_test = mnist_test.targets"
   ]
  },
  {
   "cell_type": "markdown",
   "id": "45076234",
   "metadata": {},
   "source": [
    "Let's have a final check to sizes, dtypes, etc. of the data."
   ]
  },
  {
   "cell_type": "code",
   "execution_count": 60,
   "id": "30074d0e",
   "metadata": {},
   "outputs": [
    {
     "name": "stdout",
     "output_type": "stream",
     "text": [
      "Training data: torch.Size([50000, 1, 28, 28]), torch.Size([50000]), torch.float32, torch.int64\n",
      "Validation data: torch.Size([10000, 1, 28, 28]), torch.Size([10000]), torch.float32, torch.int64\n",
      "Test data: torch.Size([10000, 28, 28]), torch.Size([10000]), torch.float32, torch.int64\n"
     ]
    }
   ],
   "source": [
    "# check the shapes and data types\n",
    "print(\n",
    "    f\"Training data: {x_train.shape}, {y_train.shape}, {x_train.dtype}, {y_train.dtype}\"\n",
    ")\n",
    "print(f\"Validation data: {x_val.shape}, {y_val.shape}, {x_val.dtype}, {y_val.dtype}\")\n",
    "print(f\"Test data: {x_test.shape}, {y_test.shape}, {x_test.dtype}, {y_test.dtype}\")"
   ]
  },
  {
   "cell_type": "markdown",
   "id": "42a1d820",
   "metadata": {},
   "source": [
    "We save the number of features and the number of classes in variables, so that we can use them later."
   ]
  },
  {
   "cell_type": "code",
   "execution_count": 63,
   "id": "8b67ee86",
   "metadata": {
    "lines_to_end_of_cell_marker": 2
   },
   "outputs": [
    {
     "name": "stdout",
     "output_type": "stream",
     "text": [
      "Num. of features: 784\n",
      "Num. of classes: 10\n"
     ]
    }
   ],
   "source": [
    "# define number of features and classes\n",
    "NUM_FEATURES = math.prod(x_train.shape[1:])\n",
    "NUM_CLASSES = len(torch.unique(y_train))\n",
    "\n",
    "print(f\"Num. of features: {NUM_FEATURES}\")\n",
    "print(f\"Num. of classes: {NUM_CLASSES}\")"
   ]
  },
  {
   "cell_type": "markdown",
   "id": "a7643e88",
   "metadata": {
    "lines_to_next_cell": 2
   },
   "source": [
    "## Reproducibility\n",
    "\n",
    "Reproducibility is important in machine learning. If you run the same code twice, you should get the same results. This is not always the case, because of the randomness involved in the training process. For example, if you initialize the weights of a neural network randomly, you will get different results each time you run the code. This is not a problem if you only run the code once, but if you want to compare different models, you need to make sure that the results are reproducible.\n",
    "\n",
    "In PyTorch, you can set the random seed using `torch.manual_seed()`. This will make sure that the results are reproducible. For custom operators, you might need to set python seed as well as the numpy random generator seed, using `random.seed()` and `np.random.seed()`.\n",
    "\n",
    "However, this is not enough. You also need to make sure that the results are reproducible on the GPU. This goes beyond the scope of this tutorial, but you can find more information [here](https://pytorch.org/docs/stable/notes/randomness.html).\n",
    "\n",
    "**TL;DR**: reproducibility is crucial, and hard to achieve (especially on the GPU). If you want to compare different models, you need to make sure that the results are reproducible."
   ]
  },
  {
   "cell_type": "code",
   "execution_count": 66,
   "id": "8569ff0c",
   "metadata": {},
   "outputs": [],
   "source": [
    "@beartype\n",
    "def set_seed(seed: int) -> None:\n",
    "    \"\"\"Set the random seed for reproducibility.\n",
    "\n",
    "    Args:\n",
    "        seed: the random seed\n",
    "    \"\"\"\n",
    "    torch.manual_seed(seed)\n",
    "    np.random.seed(seed)\n",
    "    random.seed(seed)"
   ]
  },
  {
   "cell_type": "code",
   "execution_count": 68,
   "id": "ccc2dc7a",
   "metadata": {},
   "outputs": [
    {
     "name": "stdout",
     "output_type": "stream",
     "text": [
      "Seed: 42\n",
      "[51 92 14 71 60 20]\n",
      "[82 86 74 74 87 99]\n",
      "Seed: 42\n",
      "[51 92 14]\n",
      "[71 60 20]\n",
      "[82 86 74]\n",
      "[74 87 99]\n"
     ]
    }
   ],
   "source": [
    "# Show how seed affects the random number generation\n",
    "print(f\"Seed: 42\")\n",
    "set_seed(42)\n",
    "print(np.random.randint(0, 100, 6))\n",
    "print(np.random.randint(0, 100, 6))\n",
    "set_seed(42)\n",
    "print(f\"Seed: 42\")\n",
    "print(np.random.randint(0, 100, 3))\n",
    "print(np.random.randint(0, 100, 3))\n",
    "print(np.random.randint(0, 100, 3))\n",
    "print(np.random.randint(0, 100, 3))"
   ]
  },
  {
   "cell_type": "code",
   "execution_count": 70,
   "id": "91febf57",
   "metadata": {},
   "outputs": [],
   "source": [
    "SEED = 42\n",
    "set_seed(SEED)"
   ]
  },
  {
   "cell_type": "markdown",
   "id": "c0642204",
   "metadata": {
    "id": "U4UzMCjLlo0L"
   },
   "source": [
    "# torch.tensor\n",
    "PyTorch uses its own `torch.tensor` datatype. This is very similar to a Numpy Array, but can also be moved to and used for calculations on a GPU, and supports storing gradient information and hence dynamic backpropagation."
   ]
  },
  {
   "cell_type": "markdown",
   "id": "65b4860c",
   "metadata": {},
   "source": [
    "The special function `requires_grad` allows us to specify whether we want to store gradient information for a tensor. This is useful when we want to use the tensor in a neural network, and we want to calculate the gradients of the loss function with respect to the tensor."
   ]
  },
  {
   "cell_type": "code",
   "execution_count": 82,
   "id": "10c060f7",
   "metadata": {},
   "outputs": [
    {
     "name": "stdout",
     "output_type": "stream",
     "text": [
      "a.requires_grad: False\n",
      "b.requires_grad: True\n"
     ]
    },
    {
     "data": {
      "text/plain": [
       "tensor([ 8., 10., 12.], grad_fn=<AddBackward0>)"
      ]
     },
     "execution_count": 82,
     "metadata": {},
     "output_type": "execute_result"
    }
   ],
   "source": [
    "x = torch.tensor([1.0, 2.0, 3.0], requires_grad=False)\n",
    "y = torch.tensor([4.0, 5.0, 6.0], requires_grad=False)\n",
    "z = torch.tensor([7.0, 8.0, 9.0], requires_grad=True)\n",
    "\n",
    "a = x + y\n",
    "b = x + z\n",
    "\n",
    "print(f\"a.requires_grad: {a.requires_grad}\")\n",
    "print(f\"b.requires_grad: {b.requires_grad}\")\n",
    "\n",
    "b"
   ]
  },
  {
   "cell_type": "markdown",
   "id": "0529e275",
   "metadata": {},
   "source": [
    "# Affine layer"
   ]
  },
  {
   "cell_type": "markdown",
   "id": "88b437f6",
   "metadata": {
    "id": "PF48Rb92lo0L"
   },
   "source": [
    "We start by manually setting up an **affine layer**.\n",
    "\n",
    "$$\n",
    "\\mathbf{y} = \\mathbf{W} \\mathbf{x} + \\mathbf{b}\n",
    "$$\n",
    "\n",
    "Let's define some weights and biases (without caring about the initialization for now).\n",
    "\n",
    "For this we use the `torch.empty` function, which creates an uninitialized tensor of the given size. (Note that `torch.empty` does not return an empty tensor, but an uninitialized tensor. This is a bit confusing, but it is what it is). Similarly one can use `Tensor`, which is a special case of `torch.empty` (see [here](https://stackoverflow.com/questions/51129043/whats-the-difference-between-torch-tensor-vs-torch-empty-in-pytorch)).\n",
    "\n",
    "Note that we do not want to store gradient information for the weights and biases as of now. We will do this after we have initialized them."
   ]
  },
  {
   "cell_type": "code",
   "execution_count": 100,
   "id": "614094fc-0911-460f-9dd0-e61085fb4ff4",
   "metadata": {},
   "outputs": [
    {
     "data": {
      "text/plain": [
       "784"
      ]
     },
     "execution_count": 100,
     "metadata": {},
     "output_type": "execute_result"
    }
   ],
   "source": [
    "imgs[10].shape\n",
    "math.prod(imgs[10].shape)"
   ]
  },
  {
   "cell_type": "code",
   "execution_count": 102,
   "id": "58a49bea",
   "metadata": {
    "lines_to_end_of_cell_marker": 2
   },
   "outputs": [
    {
     "data": {
      "text/plain": [
       "(tensor([[0., 0., 0.,  ..., 0., 0., 0.],\n",
       "         [0., 0., 0.,  ..., 0., 0., 0.],\n",
       "         [0., 0., 0.,  ..., 0., 0., 0.],\n",
       "         ...,\n",
       "         [0., 0., 0.,  ..., 0., 0., 0.],\n",
       "         [0., 0., 0.,  ..., 0., 0., 0.],\n",
       "         [0., 0., 0.,  ..., 0., 0., 0.]]),\n",
       " tensor([0., 0., 0., 0., 0., 0., 0., 0., 0., 0.]))"
      ]
     },
     "execution_count": 102,
     "metadata": {},
     "output_type": "execute_result"
    }
   ],
   "source": [
    "weight = torch.empty(NUM_FEATURES, NUM_CLASSES, requires_grad=False)\n",
    "bias = torch.empty(NUM_CLASSES, requires_grad=False)\n",
    "\n",
    "weight, bias"
   ]
  },
  {
   "cell_type": "markdown",
   "id": "6c4ffb62",
   "metadata": {
    "lines_to_next_cell": 2
   },
   "source": [
    "We can now initialize the weights via **Xavier (Glorot) initialization**. Appending a function with `_` (e.g., `requires_grad_`) means that the function is applied in-place."
   ]
  },
  {
   "cell_type": "code",
   "execution_count": 109,
   "id": "acae39f3",
   "metadata": {
    "id": "gC6HoBRSlo0L"
   },
   "outputs": [],
   "source": [
    "@beartype\n",
    "def sample_from_uniform(\n",
    "    *size: tuple[int] | int, low: float = -1.0, high: float = 1.0\n",
    ") -> Tensor:\n",
    "    \"\"\"Sample from uniform distribution.\n",
    "\n",
    "    Args:\n",
    "        size: the size of the output tensor\n",
    "        low: the lower bound of the uniform distribution. Defaults to -1.0.\n",
    "        high: the upper bound of the uniform distribution. Defaults to 1.0.\n",
    "\n",
    "    Returns:\n",
    "        the output tensor sampled from uniform distribution\n",
    "    \"\"\"\n",
    "    # torch.rand generates samples from uniform distribution [0, 1)\n",
    "    # multiply by (high - low) to get samples from uniform distribution [0, high-low)\n",
    "    # shift the distribution by adding low to get samples from uniform distribution [low, high)\n",
    "    return torch.rand(*size, dtype=torch.float32) * (high - low) + low\n",
    "\n",
    "\n",
    "@beartype\n",
    "def xavier_uniform_init(weight: Tensor, requires_grad: bool = True) -> Tensor:\n",
    "    \"\"\"Initialize weight using Xavier uniform initialization.\n",
    "\n",
    "    Args:\n",
    "        weight: the weight tensor\n",
    "        requires_grad: whether the weight tensor requires gradient. Defaults to True.\n",
    "\n",
    "    Returns:\n",
    "        the weight tensor initialized using Xavier uniform initialization\n",
    "    \"\"\"\n",
    "    fan_in, fan_out = weight.shape\n",
    "    bound = np.sqrt(6 / (fan_in + fan_out))\n",
    "    out = sample_from_uniform(fan_in, fan_out, low=-bound, high=bound)\n",
    "    if requires_grad:\n",
    "        out.requires_grad_()\n",
    "    return out\n",
    "\n",
    "\n",
    "@beartype\n",
    "def zeros_init(weight: Tensor, requires_grad: bool = True) -> Tensor:\n",
    "    \"\"\"Initialize weight using zeros.\n",
    "\n",
    "    Args:\n",
    "        weight: the weight tensor\n",
    "        requires_grad: whether the weight tensor requires gradient. Defaults to True.\n",
    "\n",
    "    Returns:\n",
    "        the weight tensor initialized using zeros\n",
    "    \"\"\"\n",
    "    return torch.zeros_like(weight, requires_grad=requires_grad)"
   ]
  },
  {
   "cell_type": "code",
   "execution_count": 111,
   "id": "84e276ff",
   "metadata": {
    "lines_to_next_cell": 2
   },
   "outputs": [
    {
     "data": {
      "text/plain": [
       "(tensor([[-0.0227,  0.0688, -0.0079,  ..., -0.0300,  0.0044,  0.0397],\n",
       "         [ 0.0169, -0.0189,  0.0006,  ..., -0.0292,  0.0555,  0.0783],\n",
       "         [-0.0411,  0.0369, -0.0204,  ..., -0.0033,  0.0256, -0.0512],\n",
       "         ...,\n",
       "         [-0.0308,  0.0823,  0.0327,  ..., -0.0087, -0.0288,  0.0409],\n",
       "         [-0.0313, -0.0636,  0.0604,  ..., -0.0476,  0.0037, -0.0103],\n",
       "         [ 0.0259, -0.0674, -0.0767,  ...,  0.0169, -0.0018, -0.0427]],\n",
       "        requires_grad=True),\n",
       " tensor([0., 0., 0., 0., 0., 0., 0., 0., 0., 0.], requires_grad=True))"
      ]
     },
     "execution_count": 111,
     "metadata": {},
     "output_type": "execute_result"
    }
   ],
   "source": [
    "# initialize weight using Glorot initialization and bias to zero\n",
    "weight = xavier_uniform_init(weight, requires_grad=True)\n",
    "bias = zeros_init(bias, requires_grad=True)\n",
    "\n",
    "weight, bias"
   ]
  },
  {
   "cell_type": "markdown",
   "id": "c2e961df",
   "metadata": {
    "id": "ISgCfOEzlo0M",
    "lines_to_next_cell": 2
   },
   "source": [
    "The weights and biases are now initialized, and they now require gradient information.\n",
    "\n",
    "We now use these weights to create a **simple linear model** (i.e. logistic regression)."
   ]
  },
  {
   "cell_type": "code",
   "execution_count": 113,
   "id": "9f16fffc",
   "metadata": {
    "lines_to_next_cell": 2
   },
   "outputs": [],
   "source": [
    "@beartype\n",
    "def model(x: Float[Tensor, \"batch channels height width\"], weight: Tensor, bias: Tensor) -> Float[Tensor, \"batch classes\"]:\n",
    "    \"\"\"Compute the logits of the model.\n",
    "\n",
    "    Args:\n",
    "        x: the input tensor\n",
    "        weight: the weight tensor\n",
    "        bias: the bias tensor\n",
    "\n",
    "    Returns:\n",
    "        the logits of the model\n",
    "    \"\"\"\n",
    "    return x.flatten(start_dim=1) @ weight + bias"
   ]
  },
  {
   "cell_type": "markdown",
   "id": "406ab36f",
   "metadata": {
    "lines_to_next_cell": 2
   },
   "source": [
    "We furthermore define a loss (negative log-likelihood) for training and a function to obtain the prediction accuracy.\n",
    "\n"
   ]
  },
  {
   "cell_type": "code",
   "execution_count": 116,
   "id": "6e0b0050",
   "metadata": {
    "id": "gM8zdYBFlo0M"
   },
   "outputs": [],
   "source": [
    "@beartype\n",
    "def log_softmax(x: Tensor) -> Tensor:\n",
    "    \"\"\"Compute the log softmax of the input tensor.\n",
    "\n",
    "    Args:\n",
    "        x: the input tensor\n",
    "\n",
    "    Returns:\n",
    "        the log softmax of the input tensor\n",
    "    \"\"\"\n",
    "    return x - x.exp().sum(-1).log().unsqueeze(-1)\n",
    "\n",
    "\n",
    "@beartype\n",
    "def nll_loss(logits: Tensor, target: Tensor) -> Tensor:\n",
    "    \"\"\"Compute the negative log likelihood loss.\n",
    "\n",
    "    Args:\n",
    "        logits: the logits of the model\n",
    "        target: the target tensor\n",
    "\n",
    "    Returns:\n",
    "        the negative log likelihood loss\n",
    "    \"\"\"\n",
    "    output = log_softmax(logits)\n",
    "    return -output[range(target.shape[0]), target].mean()"
   ]
  },
  {
   "cell_type": "markdown",
   "id": "dd9f4531",
   "metadata": {},
   "source": [
    "We can now use our model to make predictions. Let's see how it performs without training."
   ]
  },
  {
   "cell_type": "code",
   "execution_count": 118,
   "id": "89223c82",
   "metadata": {},
   "outputs": [
    {
     "name": "stdout",
     "output_type": "stream",
     "text": [
      "torch.Size([64, 10])\n"
     ]
    }
   ],
   "source": [
    "x, label = x_train[:64], y_train[:64]\n",
    "logits = model(x, weight, bias)\n",
    "print(logits.shape)\n",
    "loss = nll_loss(logits, label)"
   ]
  },
  {
   "cell_type": "markdown",
   "id": "9faa2def",
   "metadata": {},
   "source": [
    "# Training loop"
   ]
  },
  {
   "cell_type": "markdown",
   "id": "82927887",
   "metadata": {
    "id": "SFOCoHtslo0N"
   },
   "source": [
    "We can now define a training loop. In this loop we need to\n",
    "1. Get a mini-batch of data. When using dynamic computation graphs like in PyTorch it is important to choose a batch size that is large enough to leverage your hardware properly.\n",
    "2. Generate predictions with our model\n",
    "3. Calculate the loss\n",
    "4. Update the gradients via `loss.backward()`\n",
    "5. Update the `weight` and `bias` based on the gradients (optimization)"
   ]
  },
  {
   "cell_type": "code",
   "execution_count": 120,
   "id": "999db050",
   "metadata": {
    "id": "xi_k9jFilo0N"
   },
   "outputs": [],
   "source": [
    "# define loss function\n",
    "criterion = nll_loss\n",
    "\n",
    "# define hyperparameters\n",
    "LEARNING_RATE = 0.01\n",
    "NUM_EPOCHS = 5\n",
    "BATCH_SIZE = 64\n",
    "\n",
    "\n",
    "@beartype\n",
    "def fit(\n",
    "    model: Callable,\n",
    "    weight: Tensor,\n",
    "    bias: Tensor,\n",
    "    x_train: Tensor,\n",
    "    y_train: Tensor,\n",
    "    criterion: Callable,\n",
    "    learning_rate: float,\n",
    "    num_epochs: int,\n",
    "    batch_size: int,\n",
    ") -> None:\n",
    "    \"\"\"Train the model.\n",
    "\n",
    "    Args:\n",
    "        model: a callable that returns the logits given the input and the parameters\n",
    "        weight: the weight tensor\n",
    "        bias: the bias tensor\n",
    "        x_train: the training features tensor\n",
    "        y_train: the training labels tensor\n",
    "        criterion: a callable that returns the loss given the logits and the labels\n",
    "        learning_rate: the learning rate\n",
    "        num_epochs: the number of epochs\n",
    "        batch_size: the batch size\n",
    "    \"\"\"\n",
    "    # Compute number of batches\n",
    "    num_train = x_train.shape[0]\n",
    "    num_batches = int(np.ceil(num_train / batch_size))\n",
    "\n",
    "    # Initialize loss and accuracy history\n",
    "    loss_history = []\n",
    "    acc_history = []\n",
    "\n",
    "    for epoch in range(num_epochs):\n",
    "        # Initialize epoch loss and accuracy\n",
    "        epoch_loss = 0.0\n",
    "        epoch_acc = 0.0\n",
    "\n",
    "        for i in range(num_batches):\n",
    "            # Get mini-batch\n",
    "            start_i = i * batch_size\n",
    "            end_i = min(start_i + batch_size, num_train)\n",
    "            x_batch, y_batch = x_train[start_i:end_i], y_train[start_i:end_i]\n",
    "\n",
    "            # Generate predictions\n",
    "            pred = model(x_batch, weight, bias)\n",
    "\n",
    "            # Calculate loss\n",
    "            loss = criterion(pred, y_batch)\n",
    "\n",
    "            # Zero out the gradients\n",
    "            if weight.grad is not None:\n",
    "                weight.grad.zero_()\n",
    "            if bias.grad is not None:\n",
    "                bias.grad.zero_()\n",
    "\n",
    "            # Compute gradients\n",
    "            loss.backward()\n",
    "\n",
    "            # Update parameters\n",
    "            with (\n",
    "                torch.inference_mode()\n",
    "            ):  # \"new version\" of torch.no_grad() (potentially faster)\n",
    "                weight -= learning_rate * weight.grad\n",
    "                bias -= learning_rate * bias.grad\n",
    "\n",
    "            # Accumulate loss and accuracy\n",
    "            epoch_loss += loss.item()\n",
    "            top1 = pred.argmax(-1) == y_batch\n",
    "            ncorrect = torch.sum(top1).item()\n",
    "            epoch_acc += ncorrect\n",
    "\n",
    "        # Epoch loss and accuracy\n",
    "        epoch_loss /= num_train\n",
    "        epoch_acc /= num_train\n",
    "\n",
    "        # Print progress\n",
    "        print(\n",
    "            f\"Epoch {epoch+1}/{num_epochs} | Loss: {epoch_loss:.4f} | Acc: {epoch_acc:.4f}\"\n",
    "        )\n",
    "\n",
    "        # Record loss and accuracy\n",
    "        loss_history.append(epoch_loss)\n",
    "        acc_history.append(epoch_acc)\n",
    "\n",
    "    # Plot loss and accuracy\n",
    "    fig, (ax1, ax2) = plt.subplots(1, 2, figsize=(12, 4))\n",
    "    ax1.plot(loss_history)\n",
    "    ax1.set_xlabel(\"Epoch\")\n",
    "    ax1.set_ylabel(\"Loss\")\n",
    "    ax2.plot(acc_history)\n",
    "    ax2.set_xlabel(\"Epoch\")\n",
    "    ax2.set_ylabel(\"Accuracy\")\n",
    "    fig.suptitle(f\"Training\")\n",
    "    plt.show()"
   ]
  },
  {
   "cell_type": "code",
   "execution_count": 122,
   "id": "d0fdfb4e",
   "metadata": {},
   "outputs": [
    {
     "name": "stdout",
     "output_type": "stream",
     "text": [
      "Epoch 1/5 | Loss: 0.0169 | Acc: 0.7425\n",
      "Epoch 2/5 | Loss: 0.0094 | Acc: 0.8558\n",
      "Epoch 3/5 | Loss: 0.0079 | Acc: 0.8711\n",
      "Epoch 4/5 | Loss: 0.0072 | Acc: 0.8797\n",
      "Epoch 5/5 | Loss: 0.0068 | Acc: 0.8848\n"
     ]
    },
    {
     "data": {
      "image/png": "[encoded data removed]",
      "text/plain": [
       "<Figure size 1200x400 with 2 Axes>"
      ]
     },
     "metadata": {},
     "output_type": "display_data"
    }
   ],
   "source": [
    "fit(\n",
    "    model,\n",
    "    weight,\n",
    "    bias,\n",
    "    x_train,\n",
    "    y_train,\n",
    "    criterion,\n",
    "    LEARNING_RATE,\n",
    "    NUM_EPOCHS,\n",
    "    BATCH_SIZE,\n",
    ")"
   ]
  },
  {
   "cell_type": "markdown",
   "id": "7692e0b7",
   "metadata": {
    "id": "2MqMatYZlo0O"
   },
   "source": [
    "Nice, it works! Wasn't this already way easier than with pure Numpy? But this is just the start. Now that we've implemented our model in the lowest level of PyTorch we can start to go up the ladder and make this even better and simpler!"
   ]
  },
  {
   "cell_type": "markdown",
   "id": "ba66ff02",
   "metadata": {
    "id": "raGN_JN2lo0O"
   },
   "source": [
    "# torch.nn.functional"
   ]
  },
  {
   "cell_type": "markdown",
   "id": "5fd9dd98",
   "metadata": {
    "id": "YDbSMnkLlo0O"
   },
   "source": [
    "We will start by replacing some of our hand-written functions with their professionally implemented counterparts in `torch.nn.functional`. This library contains all of the PyTorch functions (other parts contain the classes). It is commonly imported via"
   ]
  },
  {
   "cell_type": "code",
   "execution_count": 124,
   "id": "9c678534",
   "metadata": {
    "id": "Zo4gj01blo0O"
   },
   "outputs": [],
   "source": [
    "import torch.nn.functional as F"
   ]
  },
  {
   "cell_type": "markdown",
   "id": "466fb000",
   "metadata": {
    "id": "CNkEprlIlo0O"
   },
   "source": [
    "Instead of using `log_softmax` and `neg_loglikelihood` we can instead just use `F.cross_entropy`, which combines both of these.\n",
    "\n",
    "The loss should still be the same."
   ]
  },
  {
   "cell_type": "code",
   "execution_count": 126,
   "id": "4dafd6ce",
   "metadata": {
    "colab": {
     "base_uri": "https://localhost:8080/"
    },
    "id": "_uZmWkEblo0P",
    "outputId": "346e6391-6f09-4457-e618-c9f954551ed5"
   },
   "outputs": [
    {
     "name": "stdout",
     "output_type": "stream",
     "text": [
      "tensor(0.4013, grad_fn=<NegBackward0>)\n",
      "tensor(0.4013, grad_fn=<NllLossBackward0>)\n"
     ]
    }
   ],
   "source": [
    "criterion = nll_loss\n",
    "pred = model(x_train[:BATCH_SIZE], weight, bias)\n",
    "target = y_train[:BATCH_SIZE]\n",
    "print(criterion(pred, target))\n",
    "\n",
    "criterion = F.cross_entropy\n",
    "pred = model(x_train[:BATCH_SIZE], weight, bias)\n",
    "target = y_train[:BATCH_SIZE]\n",
    "print(criterion(pred, target))"
   ]
  },
  {
   "cell_type": "markdown",
   "id": "4ac1b7a1",
   "metadata": {
    "id": "rd8c6JbIlo0P"
   },
   "source": [
    "# nn.Module\n",
    "Next we will use `nn.Module` and `nn.Parameter` for a clearer and more concise model definition and training loop. By subclassing `nn.Module` we obtain various convenience functions such as `.parameters()` and `.zero_grad()`."
   ]
  },
  {
   "cell_type": "code",
   "execution_count": 128,
   "id": "90bb960e",
   "metadata": {
    "id": "8ugm9lNslo0P"
   },
   "outputs": [],
   "source": [
    "from torch import nn\n",
    "\n",
    "\n",
    "@beartype\n",
    "class LogisticRegression(nn.Module):\n",
    "    \"\"\"Logistic regression model.\n",
    "\n",
    "    The model consists of a single linear layer that maps from the number of features to the number of classes.\n",
    "    \"\"\"\n",
    "\n",
    "    def __init__(self, num_features: int, num_classes: int) -> None:\n",
    "        \"\"\"Constructor method for LogisticRegression.\n",
    "\n",
    "        Args:\n",
    "            num_features: the number of features\n",
    "            num_classes: the number of classes\n",
    "        \"\"\"\n",
    "        super().__init__()\n",
    "\n",
    "        # define the parameters\n",
    "        self.weight = nn.Parameter(Tensor(num_features, num_classes))\n",
    "        self.bias = nn.Parameter(Tensor(num_classes))\n",
    "\n",
    "        # initialize the parameters\n",
    "        self.init_weights()\n",
    "\n",
    "    def init_weights(self) -> None:\n",
    "        \"\"\"Initialize the parameters.\n",
    "\n",
    "        The weight is initialized using Xavier uniform initialization and the bias is initialized to zero.\n",
    "        \"\"\"\n",
    "        nn.init.xavier_uniform_(self.weight)\n",
    "        nn.init.zeros_(self.bias)\n",
    "\n",
    "    def forward(self, x: Tensor) -> Tensor:\n",
    "        \"\"\"Forward pass.\n",
    "\n",
    "        Args:\n",
    "            x: the input tensor\n",
    "\n",
    "        Returns:\n",
    "            the logits\n",
    "        \"\"\"\n",
    "        return x.flatten(start_dim=1) @ self.weight + self.bias"
   ]
  },
  {
   "cell_type": "markdown",
   "id": "e47f3123",
   "metadata": {
    "id": "vNvgEMEclo0Q"
   },
   "source": [
    "Since `LogRegression` is now a class we will have to first instantiate it before using it. We can then call it as if it were a function."
   ]
  },
  {
   "cell_type": "code",
   "execution_count": 130,
   "id": "6ebabd0d",
   "metadata": {
    "colab": {
     "base_uri": "https://localhost:8080/"
    },
    "id": "MQvK1PgIlo0Q",
    "lines_to_next_cell": 2,
    "outputId": "60e7451c-3406-4c04-d8ed-c87116555bfb"
   },
   "outputs": [],
   "source": [
    "set_seed(SEED)\n",
    "model = LogisticRegression(NUM_FEATURES, NUM_CLASSES)"
   ]
  },
  {
   "cell_type": "markdown",
   "id": "c2e209dc",
   "metadata": {
    "id": "zgBhCoIBlo0Q",
    "lines_to_next_cell": 2
   },
   "source": [
    "We can now take advantage of `.parameters()` and `.zero_grad()` to make our training loop more concise."
   ]
  },
  {
   "cell_type": "code",
   "execution_count": 132,
   "id": "f964b465",
   "metadata": {
    "id": "MT8JTjEBlo0Q"
   },
   "outputs": [],
   "source": [
    "@beartype\n",
    "def fit(\n",
    "    model: torch.nn.Module,\n",
    "    x_train: Tensor,\n",
    "    y_train: Tensor,\n",
    "    criterion: Callable,\n",
    "    learning_rate: float,\n",
    "    num_epochs: int,\n",
    "    batch_size: int,\n",
    ") -> None:\n",
    "    \"\"\"Train the model.\n",
    "\n",
    "    Args:\n",
    "        model: the model (an instance of torch.nn.Module)\n",
    "        x_train: the training features tensor\n",
    "        y_train: the training labels tensor\n",
    "        criterion: a callable that returns the loss given the logits and the labels\n",
    "        learning_rate: the learning rate\n",
    "        num_epochs: the number of epochs\n",
    "        batch_size: the batch size\n",
    "    \"\"\"\n",
    "    num_train = x_train.shape[0]\n",
    "    num_batches = int(np.ceil(num_train / batch_size))\n",
    "\n",
    "    loss_history = []\n",
    "    acc_history = []\n",
    "\n",
    "    for epoch in range(num_epochs):\n",
    "        epoch_loss = 0.0\n",
    "        epoch_acc = 0.0\n",
    "\n",
    "        for i in range(num_batches):\n",
    "            start_i = i * batch_size\n",
    "            end_i = min(start_i + batch_size, num_train)\n",
    "            x_batch = x_train[start_i:end_i]\n",
    "            y_batch = y_train[start_i:end_i]\n",
    "\n",
    "            pred = model(x_batch)\n",
    "            loss = criterion(pred, y_batch)\n",
    "\n",
    "            # Zero out the gradients\n",
    "            model.zero_grad()\n",
    "\n",
    "            # Compute gradients\n",
    "            loss.backward()\n",
    "\n",
    "            # Update parameters\n",
    "            with torch.inference_mode():\n",
    "                for param in model.parameters():\n",
    "                    param -= learning_rate * param.grad\n",
    "\n",
    "            epoch_loss += loss.item()\n",
    "            top1 = pred.argmax(-1) == y_batch\n",
    "            ncorrect = torch.sum(top1).item()\n",
    "            epoch_acc += ncorrect\n",
    "\n",
    "        epoch_loss /= num_train\n",
    "        epoch_acc /= num_train\n",
    "\n",
    "        print_epoch_summary(epoch, num_epochs, epoch_loss, epoch_acc)\n",
    "\n",
    "        loss_history.append(epoch_loss)\n",
    "        acc_history.append(epoch_acc)\n",
    "\n",
    "    plot_curves(loss_history, acc_history, \"Training\")\n",
    "\n",
    "\n",
    "@beartype\n",
    "def print_epoch_summary(epoch: int, num_epochs: int, loss: float, acc: float) -> None:\n",
    "    \"\"\"Print the epoch summary.\n",
    "\n",
    "    The summary includes the epoch number, the number of epochs, the loss, and the accuracy.\n",
    "\n",
    "    Args:\n",
    "        epoch: the epoch number\n",
    "        num_epochs: the number of epochs\n",
    "        loss: the loss\n",
    "        acc: the accuracy\n",
    "    \"\"\"\n",
    "    print(\n",
    "        f\"Epoch {epoch+1:>{len(str(num_epochs))}}/{num_epochs} | Loss: {loss:.4f}\"\n",
    "        + f\" | Accuracy: {acc:.4f}\"\n",
    "    )\n",
    "\n",
    "\n",
    "@beartype\n",
    "def plot_curves(losses: list, accuracies: list, mode: str) -> None:\n",
    "    \"\"\"Plot the loss and accuracy curves.\n",
    "\n",
    "    It plots the loss curve on the left and the accuracy curve on the right via matplotlib.\n",
    "\n",
    "    Args:\n",
    "        losses: the list of losses\n",
    "        accuracies: the list of accuracies\n",
    "        mode: the mode (e.g., training, validation, or test)\n",
    "    \"\"\"\n",
    "    fig, (ax1, ax2) = plt.subplots(1, 2, figsize=(12, 4))\n",
    "    ax1.plot(losses)\n",
    "    ax1.set_xlabel(\"Epoch\")\n",
    "    ax1.set_ylabel(\"Loss\")\n",
    "    ax2.plot(accuracies)\n",
    "    ax2.set_xlabel(\"Epoch\")\n",
    "    ax2.set_ylabel(\"Accuracy\")\n",
    "    fig.suptitle(f\"{mode}\")\n",
    "    plt.show()"
   ]
  },
  {
   "cell_type": "code",
   "execution_count": 134,
   "id": "a8c8a008",
   "metadata": {
    "id": "TjHdB26xlo0Q",
    "lines_to_next_cell": 2
   },
   "outputs": [
    {
     "name": "stdout",
     "output_type": "stream",
     "text": [
      "Epoch 1/5 | Loss: 0.0164 | Accuracy: 0.7618\n",
      "Epoch 2/5 | Loss: 0.0093 | Accuracy: 0.8578\n",
      "Epoch 3/5 | Loss: 0.0079 | Accuracy: 0.8721\n",
      "Epoch 4/5 | Loss: 0.0072 | Accuracy: 0.8802\n",
      "Epoch 5/5 | Loss: 0.0068 | Accuracy: 0.8853\n"
     ]
    },
    {
     "data": {
      "image/png": "[encoded data removed]",
      "text/plain": [
       "<Figure size 1200x400 with 2 Axes>"
      ]
     },
     "metadata": {},
     "output_type": "display_data"
    }
   ],
   "source": [
    "fit(model, x_train, y_train, criterion, LEARNING_RATE, NUM_EPOCHS, BATCH_SIZE)"
   ]
  },
  {
   "cell_type": "markdown",
   "id": "2b42c207",
   "metadata": {
    "id": "5ZL9sbKxlo0R"
   },
   "source": [
    "# nn.Linear"
   ]
  },
  {
   "cell_type": "markdown",
   "id": "4fe5bf9d",
   "metadata": {
    "id": "4AXC2xaVlo0R",
    "lines_to_next_cell": 2
   },
   "source": [
    "Instead of manually defining and initializing the affine layer, we can instead use the PyTorch class `nn.Linear`. PyTorch provides a wide range of predefined layers to simplify our code (and make it faster). On GitHub you will find layers for pretty much anything you might want to do."
   ]
  },
  {
   "cell_type": "code",
   "execution_count": 136,
   "id": "16f73b32",
   "metadata": {
    "id": "LCifjCWWlo0R"
   },
   "outputs": [],
   "source": [
    "@beartype\n",
    "class LogisticRegression(nn.Module):\n",
    "    \"\"\"Logistic regression model.\n",
    "\n",
    "    The model consists of a single linear layer that maps from the number of features to the number of classes.\n",
    "    \"\"\"\n",
    "\n",
    "    def __init__(self, num_features: int, num_classes: int) -> None:\n",
    "        \"\"\"Constructor method for LogisticRegression.\n",
    "\n",
    "        Args:\n",
    "            num_features: the number of features\n",
    "            num_classes: the number of classes\n",
    "        \"\"\"\n",
    "        super().__init__()\n",
    "        # define the linear layer\n",
    "        self.lin = nn.Linear(num_features, num_classes, bias=True)\n",
    "\n",
    "        # initialize the weights\n",
    "        self.init_weights()\n",
    "\n",
    "    def init_weights(self):\n",
    "        \"\"\"Initialize the weights.\n",
    "\n",
    "        The weight is initialized using Xavier uniform initialization and the bias is initialized to zero.\n",
    "        \"\"\"\n",
    "        if isinstance(self.lin, (nn.Linear, nn.Conv2d)):\n",
    "            nn.init.xavier_uniform_(self.lin.weight)\n",
    "            if self.lin.bias is not None:\n",
    "                nn.init.zeros_(self.lin.bias)\n",
    "\n",
    "    def forward(self, x: Float[Tensor, \"batch channels width height\"]) -> Float[Tensor, \"batch classes\"]:\n",
    "        \"\"\"Forward pass.\n",
    "\n",
    "        Args:\n",
    "            x: the input tensor\n",
    "\n",
    "        Returns:\n",
    "            the logits\n",
    "        \"\"\"\n",
    "        return self.lin(x.flatten(start_dim=1))"
   ]
  },
  {
   "cell_type": "code",
   "execution_count": 138,
   "id": "9b6bc834",
   "metadata": {},
   "outputs": [
    {
     "name": "stdout",
     "output_type": "stream",
     "text": [
      "Epoch 1/5 | Loss: 0.0169 | Accuracy: 0.7470\n",
      "Epoch 2/5 | Loss: 0.0093 | Accuracy: 0.8580\n",
      "Epoch 3/5 | Loss: 0.0079 | Accuracy: 0.8732\n",
      "Epoch 4/5 | Loss: 0.0072 | Accuracy: 0.8804\n",
      "Epoch 5/5 | Loss: 0.0068 | Accuracy: 0.8856\n"
     ]
    },
    {
     "data": {
      "image/png": "[encoded data removed]",
      "text/plain": [
       "<Figure size 1200x400 with 2 Axes>"
      ]
     },
     "metadata": {},
     "output_type": "display_data"
    }
   ],
   "source": [
    "set_seed(SEED)\n",
    "model = LogisticRegression(NUM_FEATURES, NUM_CLASSES)\n",
    "criterion = F.cross_entropy\n",
    "fit(model, x_train, y_train, criterion, LEARNING_RATE, NUM_EPOCHS, BATCH_SIZE)"
   ]
  },
  {
   "cell_type": "markdown",
   "id": "69981aa6",
   "metadata": {
    "id": "YaWWz4f5lo0S"
   },
   "source": [
    "# torch.optim"
   ]
  },
  {
   "cell_type": "markdown",
   "id": "9d8d6b18",
   "metadata": {
    "id": "98W6mTVZlo0T"
   },
   "source": [
    "`torch.optim` provides various optimization algorithms. Here we will continue to use simple `SGD`, but you could just as easily switch to Adam or AMSgrad. Optimizers provide `.step()` and `.zero_grad()` methods, which allows us to make the last block in our `fit` function more concise."
   ]
  },
  {
   "cell_type": "code",
   "execution_count": 140,
   "id": "2c0b7339",
   "metadata": {
    "id": "jtjcqpgllo0T"
   },
   "outputs": [],
   "source": [
    "set_seed(SEED)\n",
    "model = LogisticRegression(NUM_FEATURES, NUM_CLASSES)\n",
    "criterion = F.cross_entropy\n",
    "\n",
    "# define the optimizer\n",
    "optimizer = torch.optim.SGD(model.parameters(), lr=LEARNING_RATE)"
   ]
  },
  {
   "cell_type": "code",
   "execution_count": 142,
   "id": "4e6e97b7",
   "metadata": {
    "id": "7983Te7elo0T"
   },
   "outputs": [],
   "source": [
    "@beartype\n",
    "def fit(\n",
    "    model: torch.nn.Module,\n",
    "    x_train: Tensor,\n",
    "    y_train: Tensor,\n",
    "    criterion: Callable,\n",
    "    optimizer: torch.optim.Optimizer,\n",
    "    num_epochs: int,\n",
    "    batch_size: int,\n",
    ") -> None:\n",
    "    \"\"\"Train the model.\n",
    "\n",
    "    Args:\n",
    "        model: the model (an instance of torch.nn.Module)\n",
    "        x_train: the training features tensor\n",
    "        y_train: the training labels tensor\n",
    "        criterion: a callable that returns the loss given the logits and the labels\n",
    "        optimizer: the optimizer (an instance of torch.optim.Optimizer)\n",
    "        num_epochs: the number of epochs\n",
    "        batch_size: the batch size\n",
    "    \"\"\"\n",
    "    num_train = x_train.shape[0]\n",
    "    num_batches = int(np.ceil(num_train / batch_size))\n",
    "\n",
    "    loss_history = []\n",
    "    acc_history = []\n",
    "\n",
    "    for epoch in range(num_epochs):\n",
    "        epoch_loss = 0.0\n",
    "        epoch_acc = 0.0\n",
    "\n",
    "        for i in range(num_batches):\n",
    "            start_i = i * batch_size\n",
    "            end_i = min(start_i + batch_size, num_train)\n",
    "            x_batch = x_train[start_i:end_i]\n",
    "            y_batch = y_train[start_i:end_i]\n",
    "\n",
    "            pred = model(x_batch)\n",
    "            loss = criterion(pred, y_batch)\n",
    "\n",
    "            # Zero out the gradients\n",
    "            optimizer.zero_grad()\n",
    "\n",
    "            # Compute gradients\n",
    "            loss.backward()\n",
    "\n",
    "            # Optimization step\n",
    "            optimizer.step()\n",
    "\n",
    "            epoch_loss += loss.item()\n",
    "            epoch_acc += torch.sum(pred.argmax(-1) == y_batch).item()\n",
    "\n",
    "        epoch_loss /= num_train\n",
    "        epoch_acc /= num_train\n",
    "\n",
    "        print_epoch_summary(epoch, num_epochs, epoch_loss, epoch_acc)\n",
    "\n",
    "        loss_history.append(epoch_loss)\n",
    "        acc_history.append(epoch_acc)\n",
    "\n",
    "    plot_curves(loss_history, acc_history, \"Training\")"
   ]
  },
  {
   "cell_type": "code",
   "execution_count": 144,
   "id": "3fd1a243",
   "metadata": {
    "id": "yDIgAToNlo0T"
   },
   "outputs": [
    {
     "name": "stdout",
     "output_type": "stream",
     "text": [
      "Epoch 1/5 | Loss: 0.0169 | Accuracy: 0.7470\n",
      "Epoch 2/5 | Loss: 0.0093 | Accuracy: 0.8580\n",
      "Epoch 3/5 | Loss: 0.0079 | Accuracy: 0.8732\n",
      "Epoch 4/5 | Loss: 0.0072 | Accuracy: 0.8804\n",
      "Epoch 5/5 | Loss: 0.0068 | Accuracy: 0.8856\n"
     ]
    },
    {
     "data": {
      "image/png": "[encoded data removed]",
      "text/plain": [
       "<Figure size 1200x400 with 2 Axes>"
      ]
     },
     "metadata": {},
     "output_type": "display_data"
    }
   ],
   "source": [
    "fit(model, x_train, y_train, criterion, optimizer, NUM_EPOCHS, BATCH_SIZE)"
   ]
  },
  {
   "cell_type": "markdown",
   "id": "c085e37a",
   "metadata": {
    "id": "BnKR9wiblo0U"
   },
   "source": [
    "# Dataset\n",
    "As already mentioned, `torch.utils.data.Dataset` is a very useful class that allows you to easily load and process data in PyTorch.\n",
    "\n",
    "A Dataset only needs to provide a `__len__` (which is called by Python's `len` function) and a `__getitem__` function for indexing the dataset.\n",
    "\n",
    "`TensorDataset` provides an easy way of converting tensors to datasets. This will make our data loading more concise, since we can handle both `x_train` and `y_train` simultaneously."
   ]
  },
  {
   "cell_type": "code",
   "execution_count": 146,
   "id": "01f73393",
   "metadata": {
    "id": "0FZxIsvRlo0U"
   },
   "outputs": [],
   "source": [
    "from torch.utils.data import TensorDataset\n",
    "\n",
    "# create Tensor datasets\n",
    "train_dataset = TensorDataset(x_train, y_train)"
   ]
  },
  {
   "cell_type": "code",
   "execution_count": 148,
   "id": "b013281f",
   "metadata": {
    "id": "xg9pJWlnlo0U"
   },
   "outputs": [],
   "source": [
    "@beartype\n",
    "def fit(\n",
    "    model: torch.nn.Module,\n",
    "    train_dataset: torch.utils.data.Dataset,\n",
    "    criterion: Callable,\n",
    "    optimizer: torch.optim.Optimizer,\n",
    "    num_epochs: int,\n",
    "    batch_size: int,\n",
    ") -> None:\n",
    "    \"\"\"Train the model.\n",
    "\n",
    "    Args:\n",
    "        model: the model (an instance of torch.nn.Module)\n",
    "        train_dataset: the training dataset (an instance of torch.utils.data.Dataset)\n",
    "        criterion: a callable that returns the loss given the logits and the labels\n",
    "        optimizer: the optimizer (an instance of torch.optim.Optimizer)\n",
    "        num_epochs: the number of epochs\n",
    "        batch_size: the batch size\n",
    "    \"\"\"\n",
    "    num_train = x_train.shape[0]\n",
    "    num_batches = int(np.ceil(num_train / batch_size))\n",
    "\n",
    "    loss_history = []\n",
    "    acc_history = []\n",
    "\n",
    "    for epoch in range(num_epochs):\n",
    "        epoch_loss = 0.0\n",
    "        epoch_acc = 0.0\n",
    "\n",
    "        for i in range(num_batches):\n",
    "            start_i = i * batch_size\n",
    "            end_i = min(start_i + batch_size, num_train)\n",
    "            x_batch, y_batch = train_dataset[start_i:end_i]\n",
    "\n",
    "            pred = model(x_batch)\n",
    "            loss = criterion(pred, y_batch)\n",
    "\n",
    "            optimizer.zero_grad()\n",
    "            loss.backward()\n",
    "            optimizer.step()\n",
    "\n",
    "            epoch_loss += loss.item()\n",
    "            epoch_acc += torch.sum(pred.argmax(-1) == y_batch).item()\n",
    "\n",
    "        epoch_loss /= num_train\n",
    "        epoch_acc /= num_train\n",
    "\n",
    "        print_epoch_summary(epoch, num_epochs, epoch_loss, epoch_acc)\n",
    "\n",
    "        loss_history.append(epoch_loss)\n",
    "        acc_history.append(epoch_acc)\n",
    "\n",
    "    plot_curves(loss_history, acc_history, \"Training\")"
   ]
  },
  {
   "cell_type": "code",
   "execution_count": 150,
   "id": "b82cfbe1",
   "metadata": {
    "colab": {
     "base_uri": "https://localhost:8080/"
    },
    "id": "o68EF_tolo0U",
    "outputId": "4cb2f405-89ec-4191-817d-fa5e46b10ead"
   },
   "outputs": [
    {
     "name": "stdout",
     "output_type": "stream",
     "text": [
      "Epoch 1/5 | Loss: 0.0169 | Accuracy: 0.7470\n",
      "Epoch 2/5 | Loss: 0.0093 | Accuracy: 0.8580\n",
      "Epoch 3/5 | Loss: 0.0079 | Accuracy: 0.8732\n",
      "Epoch 4/5 | Loss: 0.0072 | Accuracy: 0.8804\n",
      "Epoch 5/5 | Loss: 0.0068 | Accuracy: 0.8856\n"
     ]
    },
    {
     "data": {
      "image/png": "[encoded data removed]",
      "text/plain": [
       "<Figure size 1200x400 with 2 Axes>"
      ]
     },
     "metadata": {},
     "output_type": "display_data"
    }
   ],
   "source": [
    "set_seed(SEED)\n",
    "model = LogisticRegression(NUM_FEATURES, NUM_CLASSES)\n",
    "criterion = F.cross_entropy\n",
    "optimizer = torch.optim.SGD(model.parameters(), lr=LEARNING_RATE)\n",
    "\n",
    "fit(model, train_dataset, criterion, optimizer, NUM_EPOCHS, BATCH_SIZE)"
   ]
  },
  {
   "cell_type": "markdown",
   "id": "a0849750",
   "metadata": {},
   "source": [
    "At the beginning of this tutorial we downloaded the MNIST dataset using `torchvision`. This is a subclass of `torch.utils.data.Dataset`. Instead of working with the raw data, we can instead use this class directly. This will make our code more concise and readable.\n",
    "\n",
    "Let's download the data again for demonstration purposes."
   ]
  },
  {
   "cell_type": "code",
   "execution_count": 152,
   "id": "32e123d6",
   "metadata": {},
   "outputs": [],
   "source": [
    "mnist_train = torchvision.datasets.MNIST(\"./data\", train=True, download=True)\n",
    "mnist_test = torchvision.datasets.MNIST(\"./data\", train=False, download=True)"
   ]
  },
  {
   "cell_type": "markdown",
   "id": "3fe20b06",
   "metadata": {},
   "source": [
    "Since `MNIST` is a subclass of `torch.utils.data.Dataset` it already provides `__len__` and `__getitem__` functions."
   ]
  },
  {
   "cell_type": "code",
   "execution_count": 155,
   "id": "10a611a0",
   "metadata": {},
   "outputs": [
    {
     "name": "stdout",
     "output_type": "stream",
     "text": [
      "60000\n",
      "(<PIL.Image.Image image mode=L size=28x28 at 0x11A909AEFF0>, 5)\n"
     ]
    }
   ],
   "source": [
    "print(len(mnist_train))\n",
    "print(mnist_train[0])"
   ]
  },
  {
   "cell_type": "markdown",
   "id": "7eaf3496",
   "metadata": {},
   "source": [
    "## Transforms\n",
    "\n",
    "The `__getitem__` method is the most important one. It is used to load and process the data. In the case of the MNIST dataset, the `__getitem__` method returns a tuple containing the image and the label of the image at the given index.\n",
    "\n",
    "As a `PIL` image is returned, we have to:\n",
    "1. convert it to a `Tensor` (we will introduce `Tensor`s later);\n",
    "2. normalize the image.\n",
    "\n",
    "Torchvision provides a `transforms` module that contains a lot of useful functions for data preprocessing and augmentation. In this case we will use the `ToTensor` and `Normalize` functions.\n",
    "\n",
    "If we want to use multiple transforms, we can use the `Compose` function to combine them into a single transform.\n",
    "\n",
    "Let's download again the MNIST dataset, but this time we will use the `transforms` module to convert the images to `Tensor`s and normalize them."
   ]
  },
  {
   "cell_type": "code",
   "execution_count": 157,
   "id": "3b239fab",
   "metadata": {},
   "outputs": [
    {
     "data": {
      "text/plain": [
       "(Dataset MNIST\n",
       "     Number of datapoints: 60000\n",
       "     Root location: ./data\n",
       "     Split: Train\n",
       "     StandardTransform\n",
       " Transform: Compose(\n",
       "                  ToImage()\n",
       "                  ToDtype(scale=True)\n",
       "                  Normalize(mean=[0.1307], std=[0.3081], inplace=False)\n",
       "            ),\n",
       " Dataset MNIST\n",
       "     Number of datapoints: 10000\n",
       "     Root location: ./data\n",
       "     Split: Test\n",
       "     StandardTransform\n",
       " Transform: Compose(\n",
       "                  ToImage()\n",
       "                  ToDtype(scale=True)\n",
       "                  Normalize(mean=[0.1307], std=[0.3081], inplace=False)\n",
       "            ))"
      ]
     },
     "execution_count": 157,
     "metadata": {},
     "output_type": "execute_result"
    }
   ],
   "source": [
    "transform = v2.Compose([\n",
    "    v2.ToImage(),\n",
    "    v2.ToDtype(dtype=torch.float32, scale=True),\n",
    "    v2.Normalize((0.1307,), (0.3081,))\n",
    "])\n",
    "mnist_train = torchvision.datasets.MNIST(\n",
    "    \"./data\", train=True, download=True, transform=transform\n",
    ")\n",
    "\n",
    "mnist_test = torchvision.datasets.MNIST(\n",
    "    \"./data\", train=False, download=True, transform=transform\n",
    ")\n",
    "\n",
    "mnist_train, mnist_test"
   ]
  },
  {
   "cell_type": "code",
   "execution_count": 54,
   "id": "ff1e82f3",
   "metadata": {
    "lines_to_next_cell": 2
   },
   "outputs": [
    {
     "data": {
      "text/plain": [
       "(torch.Size([1, 28, 28]), 5)"
      ]
     },
     "execution_count": 54,
     "metadata": {},
     "output_type": "execute_result"
    }
   ],
   "source": [
    "image, label = mnist_train[0]\n",
    "image.shape, label"
   ]
  },
  {
   "cell_type": "markdown",
   "id": "9d3684b1",
   "metadata": {},
   "source": [
    "Instead of splitting the dataset into a training and validation set manually, we can use `random_split` to do this for us."
   ]
  },
  {
   "cell_type": "code",
   "execution_count": 159,
   "id": "90e0769a",
   "metadata": {},
   "outputs": [
    {
     "data": {
      "text/plain": [
       "(<torch.utils.data.dataset.Subset at 0x11a8c9fd880>,\n",
       " <torch.utils.data.dataset.Subset at 0x11a908f61b0>)"
      ]
     },
     "execution_count": 159,
     "metadata": {},
     "output_type": "execute_result"
    }
   ],
   "source": [
    "mnist_train_split, mnist_val_split = torch.utils.data.random_split(\n",
    "    mnist_train, [50000, 10000]\n",
    ")\n",
    "mnist_train_split, mnist_val_split"
   ]
  },
  {
   "cell_type": "markdown",
   "id": "c3c4a87f",
   "metadata": {},
   "source": [
    "`mnist_train_split` and `mnist_val_split` are both `Subset` objects, which are subclasses of `torch.utils.data.Dataset`. They are used to select a subset of the data, and they still implement the `__getitem__` and `__len__` methods."
   ]
  },
  {
   "cell_type": "code",
   "execution_count": 162,
   "id": "fe7882fb",
   "metadata": {},
   "outputs": [
    {
     "data": {
      "text/plain": [
       "(50000, torch.Size([1, 28, 28]), 9)"
      ]
     },
     "execution_count": 162,
     "metadata": {},
     "output_type": "execute_result"
    }
   ],
   "source": [
    "image, label = mnist_train_split[0]\n",
    "len(mnist_train_split), image.shape, label"
   ]
  },
  {
   "cell_type": "markdown",
   "id": "01dc22b6",
   "metadata": {},
   "source": [
    "Let's have a final check to sizes, dtypes, etc. of the data."
   ]
  },
  {
   "cell_type": "code",
   "execution_count": 165,
   "id": "bf57ceb2",
   "metadata": {},
   "outputs": [
    {
     "name": "stdout",
     "output_type": "stream",
     "text": [
      "Train | Num. of samples: 50000, X shape: torch.Size([1, 28, 28])\n",
      "Val   | Num. of samples: 10000, X shape: torch.Size([1, 28, 28])\n",
      "Test  | Num. of samples: 10000, X shape: torch.Size([1, 28, 28])\n"
     ]
    }
   ],
   "source": [
    "print(\n",
    "    f\"Train | Num. of samples: {len(mnist_train_split)}, X shape: {mnist_train_split[0][0].shape}\"\n",
    ")\n",
    "print(\n",
    "    f\"Val   | Num. of samples: {len(mnist_val_split)}, X shape: {mnist_val_split[0][0].shape}\"\n",
    ")\n",
    "print(f\"Test  | Num. of samples: {len(mnist_test)}, X shape: {mnist_test[0][0].shape}\")"
   ]
  },
  {
   "cell_type": "markdown",
   "id": "bb8ae29a",
   "metadata": {
    "id": "GfrZnnr-lo0V"
   },
   "source": [
    "# DataLoader"
   ]
  },
  {
   "cell_type": "markdown",
   "id": "acc26167",
   "metadata": {
    "id": "qcLI1FYIlo0V"
   },
   "source": [
    "A `DataLoader` automatically generates mini-batches for your training loop. It can run multiple workers in parallel and provides useful functionality such as data shuffling. You can create a `DataLoader` for any `Dataset`."
   ]
  },
  {
   "cell_type": "code",
   "execution_count": 184,
   "id": "98198c4e",
   "metadata": {
    "id": "tDXxPPFslo0V"
   },
   "outputs": [],
   "source": [
    "from torch.utils.data import DataLoader\n",
    "\n",
    "# create DataLoader\n",
    "train_generator = torch.Generator().manual_seed(SEED)\n",
    "train_dataloader = DataLoader(\n",
    "    dataset=mnist_test, batch_size=BATCH_SIZE, generator=train_generator\n",
    ")"
   ]
  },
  {
   "cell_type": "markdown",
   "id": "628ce62d",
   "metadata": {},
   "source": [
    "Let's see how the `DataLoader` works."
   ]
  },
  {
   "cell_type": "code",
   "execution_count": 186,
   "id": "ef5c1863",
   "metadata": {
    "lines_to_next_cell": 2
   },
   "outputs": [],
   "source": [
    "# iterate over the DataLoader\n",
    "x_batch, y_batch = next(iter(train_dataloader))\n",
    "# for x_batch, y_batch in train dataloader"
   ]
  },
  {
   "cell_type": "markdown",
   "id": "33a0c644",
   "metadata": {
    "id": "JRDyefIClo0V",
    "lines_to_next_cell": 2
   },
   "source": [
    "Using the DataLoader makes our training loop a lot cleaner:"
   ]
  },
  {
   "cell_type": "code",
   "execution_count": 172,
   "id": "105d4a8f",
   "metadata": {
    "id": "4P3QF5u-lo0V"
   },
   "outputs": [],
   "source": [
    "@beartype\n",
    "def fit(\n",
    "    model: torch.nn.Module,\n",
    "    train_dataloader: torch.utils.data.DataLoader,\n",
    "    criterion: Callable,\n",
    "    optimizer: torch.optim.Optimizer,\n",
    "    num_epochs: int,\n",
    ") -> None:\n",
    "    \"\"\"Train the model.\n",
    "\n",
    "    Args:\n",
    "        model: the model (an instance of torch.nn.Module)\n",
    "        train_dataloader: the training dataloader (an instance of torch.utils.data.DataLoader)\n",
    "        criterion: a callable that returns the loss given the logits and the labels\n",
    "        optimizer: the optimizer (an instance of torch.optim.Optimizer)\n",
    "        num_epochs: the number of epochs\n",
    "    \"\"\"\n",
    "    loss_history = []\n",
    "    acc_history = []\n",
    "\n",
    "    for epoch in range(num_epochs):\n",
    "        n = 0\n",
    "        epoch_loss = 0.0\n",
    "        epoch_acc = 0.0\n",
    "\n",
    "        for x_batch, y_batch in train_dataloader:\n",
    "            pred = model(x_batch)\n",
    "            loss = criterion(pred, y_batch)\n",
    "\n",
    "            optimizer.zero_grad()\n",
    "            loss.backward()\n",
    "            optimizer.step()\n",
    "\n",
    "            n += len(x_batch)\n",
    "            epoch_loss += loss.item()\n",
    "            epoch_acc += torch.sum(pred.argmax(dim=-1) == y_batch).item()\n",
    "\n",
    "        epoch_loss /= n\n",
    "        epoch_acc /= n\n",
    "\n",
    "        print_epoch_summary(epoch, num_epochs, epoch_loss, epoch_acc)\n",
    "\n",
    "        loss_history.append(epoch_loss)\n",
    "        acc_history.append(epoch_acc)\n",
    "\n",
    "    plot_curves(loss_history, acc_history, \"Training\")"
   ]
  },
  {
   "cell_type": "code",
   "execution_count": 174,
   "id": "2064b45c",
   "metadata": {
    "colab": {
     "base_uri": "https://localhost:8080/"
    },
    "id": "gG_FoHpFlo0V",
    "outputId": "b4b2d23a-1a97-42c9-db18-0459f6f4c5a9"
   },
   "outputs": [
    {
     "name": "stdout",
     "output_type": "stream",
     "text": [
      "Epoch 1/5 | Loss: 0.0145 | Accuracy: 0.7187\n",
      "Epoch 2/5 | Loss: 0.0072 | Accuracy: 0.8677\n",
      "Epoch 3/5 | Loss: 0.0061 | Accuracy: 0.8866\n",
      "Epoch 4/5 | Loss: 0.0056 | Accuracy: 0.8968\n",
      "Epoch 5/5 | Loss: 0.0053 | Accuracy: 0.9028\n"
     ]
    },
    {
     "data": {
      "image/png": "[encoded data removed]",
      "text/plain": [
       "<Figure size 1200x400 with 2 Axes>"
      ]
     },
     "metadata": {},
     "output_type": "display_data"
    }
   ],
   "source": [
    "set_seed(SEED)\n",
    "model = LogisticRegression(NUM_FEATURES, NUM_CLASSES)\n",
    "criterion = F.cross_entropy\n",
    "optimizer = torch.optim.SGD(model.parameters(), lr=LEARNING_RATE)\n",
    "\n",
    "fit(model, train_dataloader, criterion, optimizer, NUM_EPOCHS)"
   ]
  },
  {
   "cell_type": "markdown",
   "id": "f4d7b4d7",
   "metadata": {
    "id": "5NP4VoBjlo0W"
   },
   "source": [
    "# Validation\n",
    "\n",
    "Now that we have a training loop we can go ahead and do some real work. To avoid overfitting, enable early stopping and have some information for model development we always need a validation set.\n",
    "\n",
    "Since the validation set does not need backpropagation we can use 2x larger batches for it. Furthermore, we should shuffle our training data to avoid correlation between batches. This is not necessary (and would waste computation time) for the validation set."
   ]
  },
  {
   "cell_type": "code",
   "execution_count": 192,
   "id": "3f7d5648",
   "metadata": {
    "id": "8nq5V_fdlo0W",
    "lines_to_next_cell": 2
   },
   "outputs": [],
   "source": [
    "dataloaders = {}\n",
    "train_generator = torch.Generator().manual_seed(SEED)\n",
    "dataloaders[\"train\"] = DataLoader(\n",
    "    mnist_train_split, batch_size=BATCH_SIZE, shuffle=True, generator=train_generator\n",
    ")\n",
    "dataloaders[\"val\"] = DataLoader(mnist_val_split, batch_size=2 * BATCH_SIZE, shuffle=False)"
   ]
  },
  {
   "cell_type": "markdown",
   "id": "0e847761",
   "metadata": {
    "id": "maBDs2ablo0W",
    "lines_to_next_cell": 2
   },
   "source": [
    "Note that you need to call `model.train()` before training and `model.eval()` before evaluation (inference), since some layers like dropout and batch normalization work differently in each mode."
   ]
  },
  {
   "cell_type": "code",
   "execution_count": 194,
   "id": "92eef09d",
   "metadata": {
    "id": "3rfMLPlflo0W"
   },
   "outputs": [],
   "source": [
    "@beartype\n",
    "def fit(\n",
    "    model: torch.nn.Module,\n",
    "    dataloaders: dict[str, torch.utils.data.DataLoader],\n",
    "    criterion: Callable,\n",
    "    optimizer: torch.optim.Optimizer,\n",
    "    num_epochs: int,\n",
    ") -> None:\n",
    "    \"\"\"Train the model.\n",
    "\n",
    "    Args:\n",
    "        model: the model (an instance of torch.nn.Module)\n",
    "        dataloaders: the dictionary of dataloaders (an instance of torch.utils.data.DataLoader)\n",
    "        criterion: a callable that returns the loss given the logits and the labels\n",
    "        optimizer: the optimizer (an instance of torch.optim.Optimizer)\n",
    "        num_epochs: the number of epochs\n",
    "    \"\"\"\n",
    "    loss_history = {\"train\": [], \"val\": []}\n",
    "    acc_history = {\"train\": [], \"val\": []}\n",
    "\n",
    "    for epoch in range(num_epochs):\n",
    "        epoch_loss = {\"train\": 0.0, \"val\": 0.0}\n",
    "        epoch_acc = {\"train\": 0.0, \"val\": 0.0}\n",
    "\n",
    "        # Training\n",
    "        model.train()\n",
    "        for x_batch, y_batch in dataloaders[\"train\"]:\n",
    "            pred = model(x_batch)\n",
    "            loss = criterion(pred, y_batch)\n",
    "\n",
    "            optimizer.zero_grad()\n",
    "            loss.backward()\n",
    "            optimizer.step()\n",
    "\n",
    "            epoch_loss[\"train\"] += loss.item()\n",
    "            epoch_acc[\"train\"] += torch.sum(pred.argmax(-1) == y_batch).item()\n",
    "\n",
    "        epoch_loss[\"train\"] /= len(dataloaders[\"train\"].dataset)\n",
    "        epoch_acc[\"train\"] /= len(dataloaders[\"train\"].dataset)\n",
    "\n",
    "        # Validation\n",
    "        model.eval()\n",
    "        for x_batch, y_batch in dataloaders[\"val\"]:\n",
    "            with torch.inference_mode():\n",
    "                pred = model(x_batch)\n",
    "                loss = criterion(pred, y_batch)\n",
    "\n",
    "            epoch_loss[\"val\"] += loss.item()\n",
    "            epoch_acc[\"val\"] += torch.sum(pred.argmax(-1) == y_batch).item()\n",
    "\n",
    "        epoch_loss[\"val\"] /= len(dataloaders[\"val\"].dataset)\n",
    "        epoch_acc[\"val\"] /= len(dataloaders[\"val\"].dataset)\n",
    "\n",
    "        print_epoch_summary(epoch, num_epochs, epoch_loss, epoch_acc)\n",
    "\n",
    "        loss_history[\"train\"].append(epoch_loss[\"train\"])\n",
    "        loss_history[\"val\"].append(epoch_loss[\"val\"])\n",
    "        acc_history[\"train\"].append(epoch_acc[\"train\"])\n",
    "        acc_history[\"val\"].append(epoch_acc[\"val\"])\n",
    "\n",
    "    training_history = {\"loss\": loss_history[\"train\"], \"acc\": acc_history[\"train\"]}\n",
    "    validation_history = {\"loss\": loss_history[\"val\"], \"acc\": acc_history[\"val\"]}\n",
    "    plot_curves(training_history, validation_history)\n",
    "\n",
    "\n",
    "@beartype\n",
    "def print_epoch_summary(\n",
    "    epoch: int, num_epochs: int, loss: dict[str, float], acc: dict[str, float]\n",
    ") -> None:\n",
    "    \"\"\"Print the epoch summary.\n",
    "\n",
    "    The summary includes the epoch number, the number of epochs, the loss, and the accuracy.\n",
    "\n",
    "    Args:\n",
    "        epoch: the epoch number\n",
    "        num_epochs: the number of epochs\n",
    "        loss: the loss\n",
    "        acc: the accuracy\n",
    "    \"\"\"\n",
    "    print(\n",
    "        f\"Epoch {epoch+1:>{len(str(num_epochs))}}/{num_epochs} | \"\n",
    "        f\"Train - loss: {loss['train']:.4f}, acc: {acc['train']:.4f} | \"\n",
    "        f\"Val - loss: {loss['val']:.4f}, acc: {acc['val']:.4f}\"\n",
    "    )\n",
    "\n",
    "\n",
    "@beartype\n",
    "def plot_curves(\n",
    "    training_history: dict[str, list], validation_history: dict[str, list]\n",
    ") -> None:\n",
    "    \"\"\"Plot the loss and accuracy curves.\n",
    "\n",
    "    It plots the loss curve on the left and the accuracy curve on the right via matplotlib.\n",
    "\n",
    "    Args:\n",
    "        training_history: the training history\n",
    "        validation_history: the validation history\n",
    "    \"\"\"\n",
    "    _, (ax1, ax2) = plt.subplots(1, 2, figsize=(12, 4))\n",
    "    ax1.plot(training_history[\"loss\"], label=\"Training\")\n",
    "    ax1.plot(validation_history[\"loss\"], label=\"Validation\")\n",
    "    ax1.set_xlabel(\"Epoch\")\n",
    "    ax1.set_ylabel(\"Loss\")\n",
    "    ax1.legend()\n",
    "    ax2.plot(training_history[\"acc\"], label=\"Training\")\n",
    "    ax2.plot(validation_history[\"acc\"], label=\"Validation\")\n",
    "    ax2.set_xlabel(\"Epoch\")\n",
    "    ax2.set_ylabel(\"Accuracy\")\n",
    "    ax2.legend()\n",
    "    plt.show()"
   ]
  },
  {
   "cell_type": "code",
   "execution_count": 182,
   "id": "d77c2d47",
   "metadata": {
    "colab": {
     "base_uri": "https://localhost:8080/"
    },
    "id": "GO6SonHYlo0W",
    "outputId": "b4ad4edd-9ae5-436c-b7e9-770560f0ad16"
   },
   "outputs": [
    {
     "name": "stdout",
     "output_type": "stream",
     "text": [
      "Epoch 1/5 | Train - loss: 0.0084, acc: 0.8422 | Val - loss: 0.0029, acc: 0.8978\n",
      "Epoch 2/5 | Train - loss: 0.0055, acc: 0.8969 | Val - loss: 0.0026, acc: 0.9064\n",
      "Epoch 3/5 | Train - loss: 0.0051, acc: 0.9049 | Val - loss: 0.0024, acc: 0.9137\n",
      "Epoch 4/5 | Train - loss: 0.0049, acc: 0.9099 | Val - loss: 0.0024, acc: 0.9170\n",
      "Epoch 5/5 | Train - loss: 0.0048, acc: 0.9133 | Val - loss: 0.0023, acc: 0.9190\n"
     ]
    },
    {
     "data": {
      "image/png": "[encoded data removed]",
      "text/plain": [
       "<Figure size 1200x400 with 2 Axes>"
      ]
     },
     "metadata": {},
     "output_type": "display_data"
    }
   ],
   "source": [
    "set_seed(SEED)\n",
    "model = LogisticRegression(NUM_FEATURES, NUM_CLASSES)\n",
    "criterion = F.cross_entropy\n",
    "optimizer = torch.optim.SGD(model.parameters(), lr=LEARNING_RATE)\n",
    "\n",
    "fit(model, dataloaders, criterion, optimizer, NUM_EPOCHS)"
   ]
  },
  {
   "cell_type": "markdown",
   "id": "ddcb8076",
   "metadata": {},
   "source": [
    "What happens if we let the model train for more epochs?\n",
    "\n",
    "With data shuffling:\n",
    "![](img/validation_curves_shuffle.png)\n",
    "\n",
    "Without data shuffling:\n",
    "![](img/validation_curves_no_shuffle.png)"
   ]
  },
  {
   "cell_type": "markdown",
   "id": "a475ed77",
   "metadata": {
    "lines_to_next_cell": 2
   },
   "source": [
    "Before we continue, let's make our training loop a bit more concise."
   ]
  },
  {
   "cell_type": "code",
   "execution_count": 196,
   "id": "8f888c02",
   "metadata": {},
   "outputs": [],
   "source": [
    "@beartype\n",
    "def run_epoch(\n",
    "    model: torch.nn.Module,\n",
    "    dataloader: torch.utils.data.DataLoader,\n",
    "    criterion: Callable,\n",
    "    optimizer: torch.optim.Optimizer | None = None,\n",
    "    train: bool = False,\n",
    ") -> tuple[float, float]:\n",
    "    \"\"\"Run one epoch.\n",
    "\n",
    "    It runs one epoch of training, validation, or test, and returns the loss and accuracy. If training is True, it also updates the parameters.\n",
    "\n",
    "    Args:\n",
    "        model: the model (an instance of torch.nn.Module)\n",
    "        dataloader: the dataloader (an instance of torch.utils.data.DataLoader)\n",
    "        criterion: a callable that returns the loss given the logits and the labels\n",
    "        optimizer: the optimizer (an instance of torch.optim.Optimizer). Defaults to None.\n",
    "        train: whether to train the model. Defaults to False.\n",
    "\n",
    "    Returns:\n",
    "        the loss and accuracy\n",
    "    \"\"\"\n",
    "    epoch_loss = 0.0\n",
    "    epoch_acc = 0.0\n",
    "\n",
    "    if train:\n",
    "        model.train()\n",
    "    else:\n",
    "        model.eval()\n",
    "\n",
    "    for x_batch, y_batch in dataloader:\n",
    "        with torch.set_grad_enabled(train):\n",
    "            pred = model(x_batch)\n",
    "            loss = criterion(pred, y_batch)\n",
    "\n",
    "            if train:\n",
    "                optimizer.zero_grad()\n",
    "                loss.backward()\n",
    "                optimizer.step()\n",
    "\n",
    "        epoch_loss += loss.item()\n",
    "        epoch_acc += (pred.argmax(-1) == y_batch).sum().item()\n",
    "\n",
    "    epoch_loss /= len(dataloader.dataset)\n",
    "    epoch_acc /= len(dataloader.dataset)\n",
    "\n",
    "    return epoch_loss, epoch_acc"
   ]
  },
  {
   "cell_type": "code",
   "execution_count": 198,
   "id": "e85c03e4",
   "metadata": {},
   "outputs": [],
   "source": [
    "@beartype\n",
    "def fit(\n",
    "    model: torch.nn.Module,\n",
    "    dataloaders: dict[str, torch.utils.data.DataLoader],\n",
    "    criterion: Callable,\n",
    "    optimizer: torch.optim.Optimizer,\n",
    "    num_epochs: int,\n",
    ") -> None:\n",
    "    \"\"\"Train the model.\n",
    "\n",
    "    Args:\n",
    "        model: the model (an instance of torch.nn.Module)\n",
    "        dataloaders: the dictionary of dataloaders (an instance of torch.utils.data.DataLoader)\n",
    "        criterion: a callable that returns the loss given the logits and the labels\n",
    "        optimizer: the optimizer (an instance of torch.optim.Optimizer)\n",
    "        num_epochs: the number of epochs\n",
    "    \"\"\"\n",
    "    loss_history = {\"train\": [], \"val\": []}\n",
    "    acc_history = {\"train\": [], \"val\": []}\n",
    "\n",
    "    for epoch in range(num_epochs):\n",
    "        # Training\n",
    "        train_loss, train_acc = run_epoch(\n",
    "            model, dataloaders[\"train\"], criterion, optimizer, train=True\n",
    "        )\n",
    "\n",
    "        # Validation\n",
    "        val_loss, val_acc = run_epoch(model, dataloaders[\"val\"], criterion, train=False)\n",
    "\n",
    "        loss = {\"train\": train_loss, \"val\": val_loss}\n",
    "        acc = {\"train\": train_acc, \"val\": val_acc}\n",
    "        print_epoch_summary(epoch, num_epochs, loss, acc)\n",
    "\n",
    "        loss_history[\"train\"].append(train_loss)\n",
    "        loss_history[\"val\"].append(val_loss)\n",
    "        acc_history[\"train\"].append(train_acc)\n",
    "        acc_history[\"val\"].append(val_acc)\n",
    "\n",
    "    training_history = {\"loss\": loss_history[\"train\"], \"acc\": acc_history[\"train\"]}\n",
    "    validation_history = {\"loss\": loss_history[\"val\"], \"acc\": acc_history[\"val\"]}\n",
    "    plot_curves(training_history, validation_history)"
   ]
  },
  {
   "cell_type": "code",
   "execution_count": 200,
   "id": "18e943d4",
   "metadata": {},
   "outputs": [
    {
     "name": "stdout",
     "output_type": "stream",
     "text": [
      "Epoch 1/5 | Train - loss: 0.0084, acc: 0.8422 | Val - loss: 0.0029, acc: 0.8978\n",
      "Epoch 2/5 | Train - loss: 0.0055, acc: 0.8969 | Val - loss: 0.0026, acc: 0.9064\n",
      "Epoch 3/5 | Train - loss: 0.0051, acc: 0.9049 | Val - loss: 0.0024, acc: 0.9137\n",
      "Epoch 4/5 | Train - loss: 0.0049, acc: 0.9099 | Val - loss: 0.0024, acc: 0.9170\n",
      "Epoch 5/5 | Train - loss: 0.0048, acc: 0.9133 | Val - loss: 0.0023, acc: 0.9190\n"
     ]
    },
    {
     "data": {
      "image/png": "[encoded data removed]",
      "text/plain": [
       "<Figure size 1200x400 with 2 Axes>"
      ]
     },
     "metadata": {},
     "output_type": "display_data"
    }
   ],
   "source": [
    "set_seed(SEED)\n",
    "model = LogisticRegression(NUM_FEATURES, NUM_CLASSES)\n",
    "criterion = F.cross_entropy\n",
    "optimizer = torch.optim.SGD(model.parameters(), lr=LEARNING_RATE)\n",
    "\n",
    "fit(model, dataloaders, criterion, optimizer, NUM_EPOCHS)"
   ]
  },
  {
   "cell_type": "markdown",
   "id": "643a8486",
   "metadata": {},
   "source": [
    "# Testing\n",
    "\n",
    "Now that we have a trained model we can use it to make predictions on the test set. We can then use these predictions to calculate the accuracy on the test set."
   ]
  },
  {
   "cell_type": "code",
   "execution_count": 202,
   "id": "d28e2bc3",
   "metadata": {},
   "outputs": [],
   "source": [
    "test_dataloader = DataLoader(dataset=mnist_test, batch_size=2 * BATCH_SIZE, shuffle=False)"
   ]
  },
  {
   "cell_type": "code",
   "execution_count": 204,
   "id": "e10bfdb9",
   "metadata": {
    "lines_to_next_cell": 2
   },
   "outputs": [
    {
     "name": "stdout",
     "output_type": "stream",
     "text": [
      "Test - loss: 0.0023, acc: 0.9151\n"
     ]
    }
   ],
   "source": [
    "test_loss, test_acc = run_epoch(model, test_dataloader, criterion, train=False)\n",
    "print(f\"Test - loss: {test_loss:.4f}, acc: {test_acc:.4f}\")"
   ]
  },
  {
   "cell_type": "markdown",
   "id": "e1adffdd",
   "metadata": {
    "id": "5k0GNIYGlo0X",
    "lines_to_next_cell": 2
   },
   "source": [
    "# CNN\n",
    "Using simple logistic regression (or an MLP) for images basically ignores the data's underlying structure. We can do much better than this by switching to a CNN. Since our training loop does not assume anything about the model we can train a CNN without any changes.\n",
    "\n",
    "Our CNN will consist of 3 convolutional layers, each using PyTorch's predefined `Conv2d` layer. At the End, we perform average pooling. Since `Conv2d` assumes a shape of `[batch_size, num_channels, height, width]` we need to reshape our input inside the model via `.view(_)`."
   ]
  },
  {
   "cell_type": "code",
   "execution_count": 206,
   "id": "a1425825",
   "metadata": {
    "id": "jfi6evjJlo0X"
   },
   "outputs": [],
   "source": [
    "@beartype\n",
    "class CNN(nn.Module):\n",
    "    \"\"\"Convolutional neural network model.\"\"\"\n",
    "\n",
    "    def __init__(self, num_channels: int, num_classes: int) -> None:\n",
    "        \"\"\"Constructor method for CNN.\n",
    "\n",
    "        Args:\n",
    "            num_channels: the number of channels\n",
    "            num_classes: the number of classes\n",
    "        \"\"\"\n",
    "        super().__init__()\n",
    "        self.conv1 = nn.Conv2d(\n",
    "            in_channels=1,\n",
    "            out_channels=num_channels,\n",
    "            kernel_size=3,\n",
    "            stride=2,\n",
    "            padding=1,\n",
    "        )\n",
    "        self.conv2 = nn.Conv2d(\n",
    "            in_channels=num_channels,\n",
    "            out_channels=num_channels,\n",
    "            kernel_size=3,\n",
    "            stride=2,\n",
    "            padding=1,\n",
    "        )\n",
    "        self.conv3 = nn.Conv2d(\n",
    "            in_channels=num_channels,\n",
    "            out_channels=num_classes,\n",
    "            kernel_size=3,\n",
    "            stride=2,\n",
    "            padding=1,\n",
    "        )\n",
    "\n",
    "        self.init_weights()\n",
    "\n",
    "    def init_weights(self) -> None:\n",
    "        \"\"\"Initialize the parameters.\n",
    "\n",
    "        The weight is initialized using Xavier uniform initialization and the bias is initialized to zero.\n",
    "        \"\"\"\n",
    "        nn.init.xavier_normal_(self.conv1.weight)\n",
    "        nn.init.zeros_(self.conv1.bias)\n",
    "        nn.init.xavier_normal_(self.conv2.weight)\n",
    "        nn.init.zeros_(self.conv2.bias)\n",
    "        nn.init.xavier_normal_(self.conv3.weight)\n",
    "        nn.init.zeros_(self.conv3.bias)\n",
    "\n",
    "    def forward(self, x: Float[Tensor, \"batch channels height width\"]) -> Float[Tensor, \"batch classes\"]:\n",
    "        \"\"\"Forward pass.\n",
    "\n",
    "        Args:\n",
    "            x: the input tensor\n",
    "\n",
    "        Returns:\n",
    "            the logits\n",
    "        \"\"\"\n",
    "        x = F.relu(self.conv1(x))\n",
    "        x = F.relu(self.conv2(x))\n",
    "        x = F.relu(self.conv3(x))\n",
    "        x = F.avg_pool2d(x, 4)\n",
    "        return x[:, :, 0, 0]"
   ]
  },
  {
   "cell_type": "markdown",
   "id": "d50971a0",
   "metadata": {
    "id": "9XOOcNyclo0X"
   },
   "source": [
    "We will now furthermore use momentum in our optimizer to speed up training."
   ]
  },
  {
   "cell_type": "code",
   "execution_count": 208,
   "id": "5a4a714a",
   "metadata": {
    "colab": {
     "base_uri": "https://localhost:8080/"
    },
    "id": "Afl2sExolo0X",
    "outputId": "e01cb93e-f1cc-4fd4-88d0-c26c966684db"
   },
   "outputs": [
    {
     "name": "stdout",
     "output_type": "stream",
     "text": [
      "Epoch 1/5 | Train - loss: 0.0099, acc: 0.7956 | Val - loss: 0.0025, acc: 0.8973\n",
      "Epoch 2/5 | Train - loss: 0.0040, acc: 0.9252 | Val - loss: 0.0015, acc: 0.9434\n",
      "Epoch 3/5 | Train - loss: 0.0031, acc: 0.9407 | Val - loss: 0.0012, acc: 0.9526\n",
      "Epoch 4/5 | Train - loss: 0.0027, acc: 0.9479 | Val - loss: 0.0013, acc: 0.9455\n",
      "Epoch 5/5 | Train - loss: 0.0026, acc: 0.9507 | Val - loss: 0.0012, acc: 0.9528\n"
     ]
    },
    {
     "data": {
      "image/png": "[encoded data removed]",
      "text/plain": [
       "<Figure size 1200x400 with 2 Axes>"
      ]
     },
     "metadata": {},
     "output_type": "display_data"
    }
   ],
   "source": [
    "NUM_CHANNELS = 16\n",
    "LEARNING_RATE = 0.1\n",
    "MOMENTUM = 0.9\n",
    "\n",
    "set_seed(SEED)\n",
    "model = CNN(num_channels=NUM_CHANNELS, num_classes=NUM_CLASSES)\n",
    "criterion = F.cross_entropy\n",
    "optimizer = torch.optim.SGD(model.parameters(), lr=LEARNING_RATE, momentum=MOMENTUM)\n",
    "\n",
    "fit(model, dataloaders, criterion, optimizer, num_epochs=NUM_EPOCHS)"
   ]
  },
  {
   "cell_type": "code",
   "execution_count": 209,
   "id": "8bbcee1b",
   "metadata": {},
   "outputs": [
    {
     "data": {
      "text/plain": [
       "(0.0012033797067590058, 0.9544)"
      ]
     },
     "execution_count": 209,
     "metadata": {},
     "output_type": "execute_result"
    }
   ],
   "source": [
    "run_epoch(model, test_dataloader, criterion, train=False)"
   ]
  },
  {
   "cell_type": "markdown",
   "id": "b0c3cba4",
   "metadata": {
    "id": "F-lPL9n4lo0Z"
   },
   "source": [
    "# GPUs"
   ]
  },
  {
   "cell_type": "markdown",
   "id": "b1b81049",
   "metadata": {
    "id": "kp8iFid0lo0Z"
   },
   "source": [
    "PyTorch can run significantly faster on a GPU than on a CPU, so you should always try to leverage that hardware. To do so, you need to move both your model and your data to the device.\n",
    "\n",
    "So let's first check if you have a GPU and choose the appropriate device.\n",
    "\n",
    "**Note**: If you are using Google Colab, you can go to `Runtime -> Change runtime type` and select `GPU` as hardware accelerator."
   ]
  },
  {
   "cell_type": "code",
   "execution_count": 212,
   "id": "b7f60766",
   "metadata": {
    "colab": {
     "base_uri": "https://localhost:8080/"
    },
    "id": "z_57uBFolo0Z",
    "outputId": "02b7c9c7-e43f-418c-e858-05e9e580275b"
   },
   "outputs": [
    {
     "name": "stdout",
     "output_type": "stream",
     "text": [
      "True\n"
     ]
    }
   ],
   "source": [
    "# check if GPU is available\n",
    "print(torch.cuda.is_available())\n",
    "\n",
    "# set the device to GPU if available\n",
    "device = torch.device(\"cuda\") if torch.cuda.is_available() else torch.device(\"cpu\")"
   ]
  },
  {
   "cell_type": "markdown",
   "id": "4b994114",
   "metadata": {
    "id": "hf7Frmaflo0Z"
   },
   "source": [
    "Now, we can move our model to the device."
   ]
  },
  {
   "cell_type": "code",
   "execution_count": 214,
   "id": "ea9abb0f",
   "metadata": {
    "id": "TEajfTSllo0Z"
   },
   "outputs": [
    {
     "name": "stdout",
     "output_type": "stream",
     "text": [
      "cpu\n",
      "cuda:0\n"
     ]
    }
   ],
   "source": [
    "# check model device\n",
    "print(model.conv1.weight.device)\n",
    "model.to(device)\n",
    "print(model.conv1.weight.device)"
   ]
  },
  {
   "cell_type": "markdown",
   "id": "fa13e6c5",
   "metadata": {
    "id": "Da2LmBpQlo0a"
   },
   "source": [
    "Then, we redefine the DataLoader to:\n",
    "1. **pin the memory**: this is a trick that will accelerate moving data between CPU and GPU (have a look at [the documentation](https://pytorch.org/docs/stable/data.html#memory-pinning) and [this explanation](https://stackoverflow.com/a/55564072) for more information);\n",
    "2. **use more workers**: the `num_workers` argument specifies how many subprocesses to use for data loading. Setting it to a higher number will speed up data loading (have a look at [the documentation](https://pytorch.org/docs/stable/data.html#multi-process-data-loading) for more information).\n",
    "\n",
    "**Note**: Jupyter notebooks do not play well with multiprocessing, so you might want to set `num_workers=0` if you are using a Jupyter notebook."
   ]
  },
  {
   "cell_type": "code",
   "execution_count": 216,
   "id": "569b81fb-42e0-444b-8694-999b7ddcaaa4",
   "metadata": {
    "id": "QaFMWQqflo0a"
   },
   "outputs": [],
   "source": [
    "NUM_WORKERS = 0\n",
    "\n",
    "\n",
    "def instantiate_dataloaders(\n",
    "    train_dataset: torch.utils.data.Dataset,\n",
    "    val_dataset: torch.utils.data.Dataset,\n",
    "    test_dataset: torch.utils.data.Dataset,\n",
    "    batch_size: int,\n",
    "    num_workers: int,\n",
    "    seed: int,\n",
    ") -> dict[str, torch.utils.data.DataLoader]:\n",
    "    \"\"\"Instantiate dataloaders.\n",
    "\n",
    "    Args:\n",
    "        train_dataset: the training dataset\n",
    "        val_dataset: the validation dataset\n",
    "        test_dataset: the test dataset\n",
    "        batch_size: the batch size\n",
    "        num_workers: the number of workers\n",
    "        seed: the seed\n",
    "\n",
    "    Returns:\n",
    "        the dictionary of dataloaders\n",
    "    \"\"\"\n",
    "    dataloaders = {}\n",
    "    dataloaders[\"train\"] = DataLoader(\n",
    "        train_dataset,\n",
    "        batch_size=batch_size,\n",
    "        shuffle=True,\n",
    "        pin_memory=True,\n",
    "        num_workers=num_workers,\n",
    "        generator=torch.Generator().manual_seed(seed),\n",
    "    )\n",
    "    dataloaders[\"val\"] = DataLoader(\n",
    "        val_dataset,\n",
    "        batch_size=2 * batch_size,\n",
    "        shuffle=False,\n",
    "        pin_memory=True,\n",
    "        num_workers=num_workers,\n",
    "    )\n",
    "    dataloaders[\"test\"] = DataLoader(\n",
    "        test_dataset,\n",
    "        batch_size=2 * batch_size,\n",
    "        shuffle=False,\n",
    "        pin_memory=True,\n",
    "        num_workers=num_workers,\n",
    "    )\n",
    "    return dataloaders"
   ]
  },
  {
   "cell_type": "markdown",
   "id": "ce7c2d84-579f-41a6-bf1e-6e485d7315a6",
   "metadata": {
    "id": "QaFMWQqflo0a"
   },
   "source": [
    "#### How to set the number of workers?\n",
    "\n",
    "Well, it depends on your hardware. The first thing you should do is to check how many cores your CPU has."
   ]
  },
  {
   "cell_type": "code",
   "execution_count": 219,
   "id": "cfc1d705",
   "metadata": {},
   "outputs": [
    {
     "name": "stdout",
     "output_type": "stream",
     "text": [
      "Number of CPU cores: 32\n"
     ]
    }
   ],
   "source": [
    "import multiprocessing\n",
    "\n",
    "num_cores = multiprocessing.cpu_count()\n",
    "print(\"Number of CPU cores:\", num_cores)"
   ]
  },
  {
   "cell_type": "markdown",
   "id": "02bc2f38",
   "metadata": {},
   "source": [
    "Secondly, you should do some quick benchmarking to see how the number of workers affects the data loading time. You can do this by setting `num_workers` to different values and measuring the time it takes to load the data. You can use the `%%timeit` magic command to do this."
   ]
  },
  {
   "cell_type": "code",
   "execution_count": 222,
   "id": "de9d4236",
   "metadata": {
    "lines_to_next_cell": 2
   },
   "outputs": [
    {
     "name": "stdout",
     "output_type": "stream",
     "text": [
      "4.93 s ± 12.4 ms per loop (mean ± std. dev. of 3 runs, 1 loop each)\n"
     ]
    }
   ],
   "source": [
    "%%timeit -n 1 -r 3\n",
    "for x_batch, y_batch in dataloaders[\"train\"]:\n",
    "    pass"
   ]
  },
  {
   "cell_type": "markdown",
   "id": "149d7d96",
   "metadata": {
    "id": "8BIsLw2Zlo0a",
    "lines_to_next_cell": 2
   },
   "source": [
    "Finally, we need to slightly change our training loop to send each batch to the device first."
   ]
  },
  {
   "cell_type": "code",
   "execution_count": 224,
   "id": "5354923f",
   "metadata": {
    "id": "rA7dwcbHlo0a"
   },
   "outputs": [],
   "source": [
    "@beartype\n",
    "def run_epoch(\n",
    "    model: torch.nn.Module,\n",
    "    dataloader: torch.utils.data.DataLoader,\n",
    "    criterion: Callable,\n",
    "    device: torch.device = torch.device(\"cpu\"),\n",
    "    optimizer: torch.optim.Optimizer | None = None,\n",
    "    train: bool = False,\n",
    ") -> tuple[float, float]:\n",
    "    \"\"\"Run one epoch.\n",
    "\n",
    "    It runs one epoch of training, validation, or test, and returns the loss and accuracy. If training is True, it also updates the parameters.\n",
    "\n",
    "    Args:\n",
    "        model: the model (an instance of torch.nn.Module)\n",
    "        dataloader: the dataloader (an instance of torch.utils.data.DataLoader)\n",
    "        criterion: a callable that returns the loss given the logits and the labels\n",
    "        device: the device (cpu or gpu). Defaults to torch.device(\"cpu\").\n",
    "        optimizer: the optimizer (an instance of torch.optim.Optimizer). Defaults to None.\n",
    "        train: whether to train the model. Defaults to False.\n",
    "\n",
    "    Returns:\n",
    "        the loss and accuracy\n",
    "    \"\"\"\n",
    "    epoch_loss = 0.0\n",
    "    epoch_acc = 0.0\n",
    "\n",
    "    # Move model to the device\n",
    "    model = model.to(device)\n",
    "\n",
    "    if train:\n",
    "        model.train()\n",
    "    else:\n",
    "        model.eval()\n",
    "\n",
    "    for x_batch, y_batch in dataloader:\n",
    "        # Move data to the device\n",
    "        x_batch = x_batch.to(device)\n",
    "        y_batch = y_batch.to(device)\n",
    "\n",
    "        with torch.set_grad_enabled(train):\n",
    "            pred = model(x_batch)\n",
    "            loss = criterion(pred, y_batch)\n",
    "\n",
    "            if train:\n",
    "                optimizer.zero_grad()\n",
    "                loss.backward()\n",
    "                optimizer.step()\n",
    "\n",
    "        epoch_loss += loss.item()\n",
    "        epoch_acc += (pred.argmax(-1) == y_batch).sum().item()\n",
    "\n",
    "    epoch_loss /= len(dataloader.dataset)\n",
    "    epoch_acc /= len(dataloader.dataset)\n",
    "\n",
    "    return epoch_loss, epoch_acc\n",
    "\n",
    "\n",
    "@beartype\n",
    "def fit(\n",
    "    model: torch.nn.Module,\n",
    "    dataloaders: dict[str, torch.utils.data.DataLoader],\n",
    "    criterion: Callable,\n",
    "    optimizer: torch.optim.Optimizer,\n",
    "    num_epochs: int,\n",
    "    device: torch.device = torch.device(\"cpu\"),\n",
    ") -> None:\n",
    "    \"\"\"Train the model.\n",
    "\n",
    "    Args:\n",
    "        model: the model (an instance of torch.nn.Module)\n",
    "        dataloaders: the dictionary of dataloaders (an instance of torch.utils.data.DataLoader)\n",
    "        criterion: a callable that returns the loss given the logits and the labels\n",
    "        optimizer: the optimizer (an instance of torch.optim.Optimizer)\n",
    "        num_epochs: the number of epochs\n",
    "        device: the device (cpu or gpu). Defaults to torch.device(\"cpu\").\n",
    "    \"\"\"\n",
    "    loss_history = {\"train\": [], \"val\": []}\n",
    "    acc_history = {\"train\": [], \"val\": []}\n",
    "\n",
    "    for epoch in range(num_epochs):\n",
    "        # Training\n",
    "        train_loss, train_acc = run_epoch(\n",
    "            model, dataloaders[\"train\"], criterion, device, optimizer, train=True\n",
    "        )\n",
    "\n",
    "        # Validation\n",
    "        val_loss, val_acc = run_epoch(\n",
    "            model, dataloaders[\"val\"], criterion, device, train=False\n",
    "        )\n",
    "\n",
    "        loss = {\"train\": train_loss, \"val\": val_loss}\n",
    "        acc = {\"train\": train_acc, \"val\": val_acc}\n",
    "        print_epoch_summary(epoch, num_epochs, loss, acc)\n",
    "\n",
    "        loss_history[\"train\"].append(train_loss)\n",
    "        loss_history[\"val\"].append(val_loss)\n",
    "        acc_history[\"train\"].append(train_acc)\n",
    "        acc_history[\"val\"].append(val_acc)\n",
    "\n",
    "    training_history = {\"loss\": loss_history[\"train\"], \"acc\": acc_history[\"train\"]}\n",
    "    validation_history = {\"loss\": loss_history[\"val\"], \"acc\": acc_history[\"val\"]}\n",
    "    plot_curves(training_history, validation_history)"
   ]
  },
  {
   "cell_type": "markdown",
   "id": "5e5ab30a",
   "metadata": {
    "id": "YLdbOMYylo0a"
   },
   "source": [
    "And now we can run our CNN on the GPU!"
   ]
  },
  {
   "cell_type": "code",
   "execution_count": 226,
   "id": "03d72ba9",
   "metadata": {
    "colab": {
     "base_uri": "https://localhost:8080/"
    },
    "id": "nSXfu4MAlo0a",
    "outputId": "0e864546-2b37-4f08-96e8-0cd4a3e274f3"
   },
   "outputs": [
    {
     "name": "stdout",
     "output_type": "stream",
     "text": [
      "Epoch 1/5 | Train - loss: 0.0102, acc: 0.7912 | Val - loss: 0.0024, acc: 0.9030\n",
      "Epoch 2/5 | Train - loss: 0.0040, acc: 0.9217 | Val - loss: 0.0018, acc: 0.9250\n",
      "Epoch 3/5 | Train - loss: 0.0032, acc: 0.9388 | Val - loss: 0.0013, acc: 0.9483\n",
      "Epoch 4/5 | Train - loss: 0.0027, acc: 0.9469 | Val - loss: 0.0012, acc: 0.9557\n",
      "Epoch 5/5 | Train - loss: 0.0024, acc: 0.9523 | Val - loss: 0.0010, acc: 0.9588\n"
     ]
    },
    {
     "data": {
      "image/png": "[encoded data removed]",
      "text/plain": [
       "<Figure size 1200x400 with 2 Axes>"
      ]
     },
     "metadata": {},
     "output_type": "display_data"
    }
   ],
   "source": [
    "set_seed(SEED)\n",
    "model = CNN(num_channels=NUM_CHANNELS, num_classes=NUM_CLASSES)\n",
    "criterion = F.cross_entropy\n",
    "optimizer = torch.optim.SGD(model.parameters(), lr=LEARNING_RATE, momentum=MOMENTUM)\n",
    "dataloaders = instantiate_dataloaders(\n",
    "    mnist_train_split, mnist_val_split, mnist_test, BATCH_SIZE, NUM_WORKERS, SEED\n",
    ")\n",
    "\n",
    "fit(model, dataloaders, criterion, optimizer, NUM_EPOCHS, device)"
   ]
  },
  {
   "cell_type": "code",
   "execution_count": 227,
   "id": "262e17db",
   "metadata": {
    "lines_to_next_cell": 2
   },
   "outputs": [
    {
     "name": "stdout",
     "output_type": "stream",
     "text": [
      "Test - loss: 0.0010, acc: 0.9597\n"
     ]
    }
   ],
   "source": [
    "test_loss, test_acc = run_epoch(model, dataloaders[\"test\"], criterion, train=False)\n",
    "print(f\"Test - loss: {test_loss:.4f}, acc: {test_acc:.4f}\")"
   ]
  },
  {
   "cell_type": "markdown",
   "id": "66b8ab1f",
   "metadata": {
    "id": "oRz3UH8xlo0X"
   },
   "source": [
    "# nn.Sequential"
   ]
  },
  {
   "cell_type": "markdown",
   "id": "bf13305c",
   "metadata": {
    "id": "3mx_G4xTlo0Y",
    "lines_to_next_cell": 2
   },
   "source": [
    "PyTorch provides a class `nn.Sequential` for simplifying the definition of modules that only consist of a stack of layers. Since these are exactly the models we have been using so far we will now switch to this interface."
   ]
  },
  {
   "cell_type": "markdown",
   "id": "6c2f1335",
   "metadata": {
    "id": "GgBce3M5lo0Y"
   },
   "source": [
    "We can now define our CNN in a more concise manner. Note that we now use `nn.AdaptiveAvgPool2d`, which allows us to specify the size of the output tensor instead of the input tensor."
   ]
  },
  {
   "cell_type": "code",
   "execution_count": 232,
   "id": "f293c29d",
   "metadata": {
    "id": "Nlsu9b8zlo0Y",
    "lines_to_end_of_cell_marker": 2
   },
   "outputs": [],
   "source": [
    "set_seed(SEED)\n",
    "model = nn.Sequential(\n",
    "    nn.Conv2d(1, 16, kernel_size=3, stride=2, padding=1),\n",
    "    nn.ReLU(),\n",
    "    nn.Conv2d(16, 16, kernel_size=3, stride=2, padding=1),\n",
    "    nn.ReLU(),\n",
    "    nn.Conv2d(16, 10, kernel_size=3, stride=2, padding=1),\n",
    "    nn.ReLU(),\n",
    "    nn.AdaptiveAvgPool2d(output_size=1),\n",
    "    nn.Flatten(start_dim=1),\n",
    ")"
   ]
  },
  {
   "cell_type": "markdown",
   "id": "28dfdb53",
   "metadata": {
    "lines_to_next_cell": 2
   },
   "source": [
    "When we don't have control on the model class (i.e., we cannot define a member function such as `init_weights` within the class itself), we can define a function and apply it to the model with `.apply(_)`."
   ]
  },
  {
   "cell_type": "code",
   "execution_count": 235,
   "id": "f096cee7",
   "metadata": {},
   "outputs": [
    {
     "data": {
      "text/plain": [
       "Sequential(\n",
       "  (0): Conv2d(1, 16, kernel_size=(3, 3), stride=(2, 2), padding=(1, 1))\n",
       "  (1): ReLU()\n",
       "  (2): Conv2d(16, 16, kernel_size=(3, 3), stride=(2, 2), padding=(1, 1))\n",
       "  (3): ReLU()\n",
       "  (4): Conv2d(16, 10, kernel_size=(3, 3), stride=(2, 2), padding=(1, 1))\n",
       "  (5): ReLU()\n",
       "  (6): AdaptiveAvgPool2d(output_size=1)\n",
       "  (7): Flatten(start_dim=1, end_dim=-1)\n",
       ")"
      ]
     },
     "execution_count": 235,
     "metadata": {},
     "output_type": "execute_result"
    }
   ],
   "source": [
    "@beartype\n",
    "def initialize_weights(m: nn.Module) -> None:\n",
    "    \"\"\"Initialize the weights.\n",
    "\n",
    "    The weight is initialized using Xavier uniform initialization and the bias is initialized to zero.\n",
    "\n",
    "    Args:\n",
    "        m: the module (an instance of torch.nn.Module)\n",
    "    \"\"\"\n",
    "    if isinstance(m, (nn.Linear, nn.Conv2d)):\n",
    "        nn.init.xavier_uniform_(m.weight)\n",
    "        if m.bias is not None:\n",
    "            nn.init.zeros_(m.bias)\n",
    "\n",
    "\n",
    "model.apply(initialize_weights)"
   ]
  },
  {
   "cell_type": "code",
   "execution_count": 237,
   "id": "73344830",
   "metadata": {
    "colab": {
     "base_uri": "https://localhost:8080/"
    },
    "id": "K1fre6h-lo0Y",
    "outputId": "fc0d2350-075f-4b73-c106-df4ebcbd95f1"
   },
   "outputs": [
    {
     "name": "stdout",
     "output_type": "stream",
     "text": [
      "Epoch 1/5 | Train - loss: 0.0102, acc: 0.7910 | Val - loss: 0.0023, acc: 0.9166\n",
      "Epoch 2/5 | Train - loss: 0.0039, acc: 0.9264 | Val - loss: 0.0018, acc: 0.9286\n",
      "Epoch 3/5 | Train - loss: 0.0031, acc: 0.9416 | Val - loss: 0.0017, acc: 0.9353\n",
      "Epoch 4/5 | Train - loss: 0.0027, acc: 0.9483 | Val - loss: 0.0013, acc: 0.9494\n",
      "Epoch 5/5 | Train - loss: 0.0024, acc: 0.9519 | Val - loss: 0.0011, acc: 0.9606\n"
     ]
    },
    {
     "data": {
      "image/png": "[encoded data removed]",
      "text/plain": [
       "<Figure size 1200x400 with 2 Axes>"
      ]
     },
     "metadata": {},
     "output_type": "display_data"
    }
   ],
   "source": [
    "criterion = F.cross_entropy\n",
    "optimizer = torch.optim.SGD(model.parameters(), lr=LEARNING_RATE, momentum=MOMENTUM)\n",
    "dataloaders = instantiate_dataloaders(\n",
    "    mnist_train_split, mnist_val_split, mnist_test, BATCH_SIZE, NUM_WORKERS, SEED\n",
    ")\n",
    "\n",
    "fit(model, dataloaders, criterion, optimizer, NUM_EPOCHS, device=device)"
   ]
  },
  {
   "cell_type": "code",
   "execution_count": 99,
   "id": "2bd4261a",
   "metadata": {
    "lines_to_next_cell": 2
   },
   "outputs": [
    {
     "name": "stdout",
     "output_type": "stream",
     "text": [
      "Test - loss: 0.0016, acc: 0.9412\n"
     ]
    }
   ],
   "source": [
    "test_loss, test_acc = run_epoch(model, dataloaders[\"test\"], criterion, train=False)\n",
    "print(f\"Test - loss: {test_loss:.4f}, acc: {test_acc:.4f}\")"
   ]
  },
  {
   "cell_type": "markdown",
   "id": "3ec1e135",
   "metadata": {},
   "source": [
    "# nn.ModuleList"
   ]
  },
  {
   "cell_type": "markdown",
   "id": "8ab8c2f6",
   "metadata": {
    "lines_to_next_cell": 2
   },
   "source": [
    "A similar approach to `nn.Sequential` is `nn.ModuleList`, which allows you to define a list of layers. This is useful when you want to define a model that has a variable number of layers."
   ]
  },
  {
   "cell_type": "code",
   "execution_count": 239,
   "id": "78e1fa2e",
   "metadata": {},
   "outputs": [],
   "source": [
    "@beartype\n",
    "class CNN(nn.Module):\n",
    "    \"\"\"Convolutional neural network model.\"\"\"\n",
    "\n",
    "    def __init__(self, num_layers: int, num_channels: int, num_classes: int) -> None:\n",
    "        \"\"\"Constructor method for CNN.\n",
    "\n",
    "        Args:\n",
    "            num_layers: the number of layers\n",
    "            num_channels: the number of channels\n",
    "            num_classes: the number of classes\n",
    "        \"\"\"\n",
    "        super().__init__()\n",
    "        self.layers = nn.ModuleList()\n",
    "        for i in range(num_layers):\n",
    "            in_channels = 1 if i == 0 else num_channels\n",
    "            out_channels = num_channels if i < num_layers - 1 else num_classes\n",
    "            self.layers.append(\n",
    "                nn.Conv2d(\n",
    "                    in_channels=in_channels,\n",
    "                    out_channels=out_channels,\n",
    "                    kernel_size=3,\n",
    "                    stride=2,\n",
    "                    padding=1,\n",
    "                )\n",
    "            )\n",
    "            self.layers.append(nn.ReLU())\n",
    "        self.layers.append(nn.AdaptiveAvgPool2d(1))\n",
    "\n",
    "        self.init_weights()\n",
    "\n",
    "    def init_weights(self) -> None:\n",
    "        \"\"\"Initialize the parameters.\n",
    "\n",
    "        The weight is initialized using Xavier uniform initialization and the bias is initialized to zero.\n",
    "        \"\"\"\n",
    "        for layer in self.layers:\n",
    "            if isinstance(layer, nn.Conv2d):\n",
    "                nn.init.xavier_normal_(layer.weight)\n",
    "                nn.init.zeros_(layer.bias)\n",
    "\n",
    "    def forward(self, x: Tensor) -> Tensor:\n",
    "        \"\"\"Forward pass.\n",
    "\n",
    "        Args:\n",
    "            x: the input tensor\n",
    "\n",
    "        Returns:\n",
    "            the logits\n",
    "        \"\"\"\n",
    "        x = x.view(-1, 1, 28, 28)\n",
    "        for layer in self.layers:\n",
    "            x = layer(x)\n",
    "        x = x.view(x.size(0), -1)\n",
    "        return x"
   ]
  },
  {
   "cell_type": "code",
   "execution_count": 241,
   "id": "4c776b68",
   "metadata": {},
   "outputs": [
    {
     "name": "stdout",
     "output_type": "stream",
     "text": [
      "Epoch 1/5 | Train - loss: 0.0101, acc: 0.7930 | Val - loss: 0.0026, acc: 0.8975\n",
      "Epoch 2/5 | Train - loss: 0.0041, acc: 0.9226 | Val - loss: 0.0018, acc: 0.9269\n",
      "Epoch 3/5 | Train - loss: 0.0033, acc: 0.9358 | Val - loss: 0.0015, acc: 0.9384\n",
      "Epoch 4/5 | Train - loss: 0.0028, acc: 0.9453 | Val - loss: 0.0013, acc: 0.9480\n",
      "Epoch 5/5 | Train - loss: 0.0025, acc: 0.9510 | Val - loss: 0.0012, acc: 0.9542\n"
     ]
    },
    {
     "data": {
      "image/png": "[encoded data removed]",
      "text/plain": [
       "<Figure size 1200x400 with 2 Axes>"
      ]
     },
     "metadata": {},
     "output_type": "display_data"
    }
   ],
   "source": [
    "set_seed(SEED)\n",
    "NUM_LAYERS = 3\n",
    "model = CNN(num_layers=NUM_LAYERS, num_channels=NUM_CHANNELS, num_classes=NUM_CLASSES)\n",
    "criterion = F.cross_entropy\n",
    "optimizer = torch.optim.SGD(model.parameters(), lr=LEARNING_RATE, momentum=MOMENTUM)\n",
    "dataloaders = instantiate_dataloaders(\n",
    "    mnist_train_split, mnist_val_split, mnist_test, BATCH_SIZE, NUM_WORKERS, SEED\n",
    ")\n",
    "\n",
    "fit(model, dataloaders, criterion, optimizer, NUM_EPOCHS, device=device)"
   ]
  },
  {
   "cell_type": "code",
   "execution_count": 102,
   "id": "c7022507",
   "metadata": {},
   "outputs": [
    {
     "name": "stdout",
     "output_type": "stream",
     "text": [
      "Test - loss: 0.0016, acc: 0.9379\n"
     ]
    }
   ],
   "source": [
    "test_loss, test_acc = run_epoch(model, dataloaders[\"test\"], criterion, train=False)\n",
    "print(f\"Test - loss: {test_loss:.4f}, acc: {test_acc:.4f}\")"
   ]
  },
  {
   "cell_type": "markdown",
   "id": "e2f222a3",
   "metadata": {},
   "source": [
    "# Early stopping and checkpointing\n",
    "\n",
    "Early stopping is a very useful technique for avoiding overfitting. It works by monitoring the validation loss and stopping training when it starts to increase. This is a very simple and effective technique that you should always use.\n",
    "\n",
    "We can implement early stopping by keeping track of the best model and stopping training when the validation loss starts to increase.\n",
    "\n",
    "We can now use this to implement checkpointing. This is a technique for saving the model at regular intervals during training. This allows us to load the model from a previous checkpoint if something goes wrong during training."
   ]
  },
  {
   "cell_type": "markdown",
   "id": "b2ff3b0b",
   "metadata": {},
   "source": [
    "### State dict"
   ]
  },
  {
   "cell_type": "code",
   "execution_count": 243,
   "id": "69c16f68",
   "metadata": {},
   "outputs": [
    {
     "data": {
      "text/plain": [
       "(collections.OrderedDict,\n",
       " 6,\n",
       " odict_keys(['layers.0.weight', 'layers.0.bias', 'layers.2.weight', 'layers.2.bias', 'layers.4.weight', 'layers.4.bias']),\n",
       " torch.Size([16, 1, 3, 3]))"
      ]
     },
     "execution_count": 243,
     "metadata": {},
     "output_type": "execute_result"
    }
   ],
   "source": [
    "(\n",
    "    type(model.state_dict()),\n",
    "    len(model.state_dict()),\n",
    "    model.state_dict().keys(),\n",
    "    model.state_dict()[\"layers.0.weight\"].shape,\n",
    ")"
   ]
  },
  {
   "cell_type": "code",
   "execution_count": 245,
   "id": "ddb9c034",
   "metadata": {},
   "outputs": [],
   "source": [
    "@beartype\n",
    "def fit(\n",
    "    model: torch.nn.Module,\n",
    "    dataloaders: dict[str, torch.utils.data.DataLoader],\n",
    "    criterion: Callable,\n",
    "    optimizer: torch.optim.Optimizer,\n",
    "    num_epochs: int,\n",
    "    patience: int,\n",
    "    device: torch.device,\n",
    ") -> dict[str, Tensor]:\n",
    "    \"\"\"Train the model.\n",
    "\n",
    "    Args:\n",
    "        model: the model (an instance of torch.nn.Module)\n",
    "        dataloaders: the dictionary of dataloaders (an instance of torch.utils.data.DataLoader)\n",
    "        criterion: a callable that returns the loss given the logits and the labels\n",
    "        optimizer: the optimizer (an instance of torch.optim.Optimizer)\n",
    "        num_epochs: the number of epochs\n",
    "        patience: the patience for early stopping\n",
    "        device: the device (cpu or gpu)\n",
    "\n",
    "    Returns:\n",
    "        the state dict of the best model\n",
    "    \"\"\"\n",
    "    loss_history = {\"train\": [], \"val\": []}\n",
    "    acc_history = {\"train\": [], \"val\": []}\n",
    "\n",
    "    best_val_acc = 0.0\n",
    "    curr_patience = patience\n",
    "\n",
    "    for epoch in range(num_epochs):\n",
    "        # Training\n",
    "        train_loss, train_acc = run_epoch(\n",
    "            model, dataloaders[\"train\"], criterion, device, optimizer, train=True\n",
    "        )\n",
    "\n",
    "        # Validation\n",
    "        val_loss, val_acc = run_epoch(\n",
    "            model, dataloaders[\"val\"], criterion, device, train=False\n",
    "        )\n",
    "\n",
    "        loss = {\"train\": train_loss, \"val\": val_loss}\n",
    "        acc = {\"train\": train_acc, \"val\": val_acc}\n",
    "        print_epoch_summary(epoch, num_epochs, loss, acc)\n",
    "\n",
    "        loss_history[\"train\"].append(train_loss)\n",
    "        loss_history[\"val\"].append(val_loss)\n",
    "        acc_history[\"train\"].append(train_acc)\n",
    "        acc_history[\"val\"].append(val_acc)\n",
    "\n",
    "        if val_acc > best_val_acc:\n",
    "            best_val_acc = val_acc\n",
    "            curr_patience = patience\n",
    "            # Save the best model state dict as a checkpoint\n",
    "            ckpt = copy.deepcopy(model.state_dict())\n",
    "            # Save the best model to disk\n",
    "            torch.save(ckpt, \"ckpt.pt\")\n",
    "        else:\n",
    "            curr_patience -= 1\n",
    "            if curr_patience == 0:\n",
    "                print(\"Early stopping\")\n",
    "                break\n",
    "\n",
    "    training_history = {\"loss\": loss_history[\"train\"], \"acc\": acc_history[\"train\"]}\n",
    "    validation_history = {\"loss\": loss_history[\"val\"], \"acc\": acc_history[\"val\"]}\n",
    "    plot_curves(training_history, validation_history)\n",
    "\n",
    "    return ckpt"
   ]
  },
  {
   "cell_type": "code",
   "execution_count": 247,
   "id": "85560c84",
   "metadata": {},
   "outputs": [
    {
     "name": "stdout",
     "output_type": "stream",
     "text": [
      "Epoch 1/5 | Train - loss: 0.0101, acc: 0.7930 | Val - loss: 0.0026, acc: 0.8975\n",
      "Epoch 2/5 | Train - loss: 0.0041, acc: 0.9226 | Val - loss: 0.0018, acc: 0.9269\n",
      "Epoch 3/5 | Train - loss: 0.0033, acc: 0.9358 | Val - loss: 0.0015, acc: 0.9384\n",
      "Epoch 4/5 | Train - loss: 0.0028, acc: 0.9453 | Val - loss: 0.0013, acc: 0.9480\n",
      "Epoch 5/5 | Train - loss: 0.0025, acc: 0.9510 | Val - loss: 0.0012, acc: 0.9542\n"
     ]
    },
    {
     "data": {
      "image/png": "[encoded data removed]",
      "text/plain": [
       "<Figure size 1200x400 with 2 Axes>"
      ]
     },
     "metadata": {},
     "output_type": "display_data"
    }
   ],
   "source": [
    "set_seed(SEED)\n",
    "PATIENCE = 3\n",
    "model = CNN(num_layers=3, num_channels=NUM_CHANNELS, num_classes=NUM_CLASSES)\n",
    "optimizer = torch.optim.SGD(model.parameters(), lr=LEARNING_RATE, momentum=MOMENTUM)\n",
    "dataloaders = instantiate_dataloaders(\n",
    "    mnist_train_split, mnist_val_split, mnist_test, BATCH_SIZE, NUM_WORKERS, SEED\n",
    ")\n",
    "\n",
    "best_model_state_dict = fit(\n",
    "    model, dataloaders, criterion, optimizer, NUM_EPOCHS, PATIENCE, device=device\n",
    ")"
   ]
  },
  {
   "cell_type": "code",
   "execution_count": 248,
   "id": "7dd3042e",
   "metadata": {},
   "outputs": [
    {
     "name": "stdout",
     "output_type": "stream",
     "text": [
      "Test - loss: 0.0012, acc: 0.9537\n"
     ]
    }
   ],
   "source": [
    "# load the model from state dict\n",
    "model.load_state_dict(best_model_state_dict)\n",
    "\n",
    "test_loss, test_acc = run_epoch(model, dataloaders[\"test\"], criterion, train=False)\n",
    "print(f\"Test - loss: {test_loss:.4f}, acc: {test_acc:.4f}\")"
   ]
  },
  {
   "cell_type": "markdown",
   "id": "4af69eaa",
   "metadata": {
    "id": "HRKt29d5lo0a"
   },
   "source": [
    "# Summary\n",
    "Great, so now we have a general training loop and know how to quickly define new models! Now let us sum up what we have learned during this journey:\n",
    "\n",
    "\n",
    "**Reproducibility**: To make sure that your results are reproducible, you need to set the random seed using `torch.manual_seed()`. You might also need to set the python seed and the numpy random generator seed. Additional attention is needed when using the GPU (beyond the scope of this tutorial).\n",
    "\n",
    "**Type annotations**: Type annotations are not necessary, but can be very helpful when working with Python and PyTorch. We also use the `beartype` decorator to make sure that our code is type-checked (meaning that the types are checked at runtime).\n",
    "\n",
    "`torch.tensor`: PyTorch tensors work like Numpy arrays, but can remember gradients and be sent to the GPU.\n",
    "\n",
    "`torch.nn`: Many useful layers are already implemented in this library, e.g. `nn.Linear` or `nn.Conv2d`.\n",
    "\n",
    "- `torch.nn.functional`: Provides various useful functions (non stateful) for training neural networks, e.g. activation and loss functions.\n",
    "- `torch.nn.Module`: Subclass from this to create a callable that acts like a function, but can remember state. It knows what `Parameter`s and submodules it contains and provides various functionality based on that.\n",
    "- `torch.nn.Parameter`: Wraps a tensor and tells the containing Module that it needs updating during backpropagation.\n",
    "- `torch.nn.Sequential`: Provides an easy way of defining purely stacked modules.\n",
    "- `torch.nn.ModuleList`: Provides an easy way of defining a list of modules.\n",
    "\n",
    "\n",
    "`torch.optim`: Optimizers such as `SGD` or `Adam`, which let you easily update and train the `Parameter`s inside the passed model.\n",
    "\n",
    "`torch.utils.data.Dataset`: An abstract class for representing a dataset. Provides an easy way of loading and processing data. Any dataset should subclass this class and implement `__len__` and `__getitem__`. Tensors can be converted to datasets using `TensorDataset`.\n",
    "\n",
    "`torch.utils.data.DataLoader`: Takes any `Dataset` and provides an iterator for returning mini-batches with various advanced functionality.\n",
    "\n",
    "**GPU**: To use your GPU you need to move your model and each mini-batch to your GPU using `.to(device)`.\n",
    "\n",
    "**Checkpointing**: To save and load your model's state use `torch.save` and `torch.load`.\n",
    "\n",
    "Other useful libraries:\n",
    "- `torchvision`: Provides various useful datasets, transforms and models for computer vision.\n",
    "\n",
    "Optional:\n",
    "- `jaxtyping`: Provides type annotations for PyTorch tensors, including shape and dtype information."
   ]
  }
 ],
 "metadata": {
  "kernelspec": {
   "display_name": "Python 3 (ipykernel)",
   "language": "python",
   "name": "python3"
  },
  "language_info": {
   "codemirror_mode": {
    "name": "ipython",
    "version": 3
   },
   "file_extension": ".py",
   "mimetype": "text/x-python",
   "name": "python",
   "nbconvert_exporter": "python",
   "pygments_lexer": "ipython3",
   "version": "3.12.3"
  }
 },
 "nbformat": 4,
 "nbformat_minor": 5
}
