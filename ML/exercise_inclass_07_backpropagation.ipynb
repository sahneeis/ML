{
 "cells": [
  {
   "cell_type": "markdown",
   "metadata": {},
   "source": [
    "# In-class exercise 7: Deep Learning 1 (Part B)\n",
    "In this notebook we will gain some hands-on experience with backpropagation"
   ]
  },
  {
   "cell_type": "code",
   "execution_count": 136,
   "metadata": {},
   "outputs": [],
   "source": [
    "import numpy as np\n",
    "import matplotlib.pyplot as plt\n",
    "import time\n",
    "\n",
    "%matplotlib inline\n",
    "\n",
    "from sklearn.datasets import load_digits\n",
    "from sklearn.metrics import accuracy_score\n",
    "from sklearn.model_selection import train_test_split\n",
    "from sklearn.preprocessing import label_binarize"
   ]
  },
  {
   "cell_type": "code",
   "execution_count": 137,
   "metadata": {},
   "outputs": [],
   "source": [
    "X, y = load_digits(return_X_y=True)\n",
    "# Convert labels into one-hot format\n",
    "Y = label_binarize(y, classes=np.unique(y))\n",
    "K = Y.shape[1]  # number of classes\n",
    "D = X.shape[1]  # number of features\n",
    "\n",
    "np.random.seed(123)\n",
    "X_train, X_test, Y_train, Y_test = train_test_split(X, Y, test_size=0.3)"
   ]
  },
  {
   "cell_type": "markdown",
   "metadata": {},
   "source": [
    "Check shapes"
   ]
  },
  {
   "cell_type": "code",
   "execution_count": 139,
   "metadata": {},
   "outputs": [
    {
     "data": {
      "text/plain": [
       "((1257, 64), (1257, 10))"
      ]
     },
     "execution_count": 139,
     "metadata": {},
     "output_type": "execute_result"
    }
   ],
   "source": [
    "X_train.shape, Y_train.shape"
   ]
  },
  {
   "cell_type": "markdown",
   "metadata": {},
   "source": [
    "# 1. Simple backpropagation example"
   ]
  },
  {
   "cell_type": "markdown",
   "metadata": {},
   "source": [
    "Addition of two vectors"
   ]
  },
  {
   "cell_type": "code",
   "execution_count": 142,
   "metadata": {},
   "outputs": [],
   "source": [
    "class Add:\n",
    "    def forward(self, x, y):\n",
    "        # TODO\n",
    "        return x+y\n",
    "    def backward(self, d_out):\n",
    "        # TODO\n",
    "        d_x = d_out\n",
    "        d_y = d_out\n",
    "        return d_x, d_y"
   ]
  },
  {
   "cell_type": "markdown",
   "metadata": {},
   "source": [
    "Element-wise multiplication of two vectors"
   ]
  },
  {
   "cell_type": "code",
   "execution_count": 144,
   "metadata": {},
   "outputs": [],
   "source": [
    "class Multiply:\n",
    "    def forward(self, x, y):\n",
    "        # TODO\n",
    "        self.cache = (x,y)\n",
    "        return x*y\n",
    "    def backward(self, d_out):\n",
    "        # TODO\n",
    "        x, y = self.cache\n",
    "        d_x = d_out * y\n",
    "        d_y = d_out * x\n",
    "        return d_x, d_y"
   ]
  },
  {
   "cell_type": "markdown",
   "metadata": {},
   "source": [
    "Sum of a vector"
   ]
  },
  {
   "cell_type": "code",
   "execution_count": 146,
   "metadata": {},
   "outputs": [],
   "source": [
    "class Sum:\n",
    "    def forward(self, x):\n",
    "        # TODO\n",
    "        self.cache = x\n",
    "        return np.sum(x)\n",
    "\n",
    "    def backward(self, d_out):\n",
    "        # TODO\n",
    "        x = self.cache\n",
    "        d_x = d_out * np.ones_like(x)\n",
    "        return d_x"
   ]
  },
  {
   "cell_type": "markdown",
   "metadata": {},
   "source": [
    "### Dot product of two vectors as composition of multiplication and summation"
   ]
  },
  {
   "cell_type": "markdown",
   "metadata": {},
   "source": [
    "Dot product:\n",
    "$$\\mathbf{x}\\cdot\\mathbf{y} = \\sum_{i=0}^{n}x_i y_i$$"
   ]
  },
  {
   "cell_type": "code",
   "execution_count": 149,
   "metadata": {},
   "outputs": [],
   "source": [
    "x = np.arange(1, 5, dtype=np.float32)\n",
    "y = np.arange(-1, 3, dtype=np.float32)"
   ]
  },
  {
   "cell_type": "code",
   "execution_count": 150,
   "metadata": {},
   "outputs": [],
   "source": [
    "mult = Multiply()\n",
    "vec_sum = Sum()\n",
    "\n",
    "w = mult.forward(x, y)\n",
    "z = vec_sum.forward(w)\n",
    "\n",
    "d_w = vec_sum.backward(1.0)\n",
    "d_x, d_y = mult.backward(d_w)"
   ]
  },
  {
   "cell_type": "code",
   "execution_count": 151,
   "metadata": {},
   "outputs": [
    {
     "data": {
      "text/plain": [
       "(10.0,\n",
       " array([-1.,  0.,  1.,  2.], dtype=float32),\n",
       " array([1., 2., 3., 4.], dtype=float32))"
      ]
     },
     "execution_count": 151,
     "metadata": {},
     "output_type": "execute_result"
    }
   ],
   "source": [
    "z, d_x, d_y"
   ]
  },
  {
   "cell_type": "markdown",
   "metadata": {},
   "source": [
    "### Dot product of two vectors as one operation"
   ]
  },
  {
   "cell_type": "markdown",
   "metadata": {},
   "source": [
    "Dot product of two vectors"
   ]
  },
  {
   "cell_type": "code",
   "execution_count": 154,
   "metadata": {},
   "outputs": [],
   "source": [
    "class DotProduct:\n",
    "    def forward(self, x, y):\n",
    "        # TODO\n",
    "        self.cache = (x,y)\n",
    "        return np.dot(x,y)\n",
    "\n",
    "    def backward(self, d_out):\n",
    "        # TODO\n",
    "        x,y = self.cache\n",
    "        d_x = d_out * y\n",
    "        d_y = d_out * x\n",
    "        return d_x, d_y"
   ]
  },
  {
   "cell_type": "code",
   "execution_count": 155,
   "metadata": {},
   "outputs": [],
   "source": [
    "x = np.arange(1, 5, dtype=np.float32)#1.2.3.4 ，没有5\n",
    "y = np.arange(-1, 3, dtype=np.float32)"
   ]
  },
  {
   "cell_type": "code",
   "execution_count": 156,
   "metadata": {},
   "outputs": [],
   "source": [
    "dp = DotProduct()\n",
    "z = dp.forward(x, y)\n",
    "d_x, d_y = dp.backward(1.0)"
   ]
  },
  {
   "cell_type": "code",
   "execution_count": 157,
   "metadata": {},
   "outputs": [
    {
     "data": {
      "text/plain": [
       "(10.0,\n",
       " array([-1.,  0.,  1.,  2.], dtype=float32),\n",
       " array([1., 2., 3., 4.], dtype=float32))"
      ]
     },
     "execution_count": 157,
     "metadata": {},
     "output_type": "execute_result"
    }
   ],
   "source": [
    "z, d_x, d_y"
   ]
  },
  {
   "cell_type": "markdown",
   "metadata": {},
   "source": [
    "**Lessons:**\n",
    "1. By implementing `forward` and `backward` method we can compute gradients of an arbitrary composition of functions\n",
    "2. Use `cache` to store values that will be needed in the backward \n",
    "3. Multiple operations can be combined into a single module (i.e. function)\n",
    "4.  `1.0` as `d_out` for the terminal node in our computational graph"
   ]
  },
  {
   "cell_type": "markdown",
   "metadata": {},
   "source": [
    "# 2. Multi-class logistic regression (without backprop)"
   ]
  },
  {
   "cell_type": "markdown",
   "metadata": {},
   "source": [
    "Multi-class logistic regression model\n",
    "\n",
    "Data:\n",
    "* Data matrix $\\mathbf{X} \\in \\mathbb{R}^{N \\times D}$.\n",
    "* Target labels in one-hot format $\\mathbf{Y} \\in \\mathbb{R}^{N \\times K}$.\n",
    "$Y_{nk} = 1$ if sample $n$ belongs to class $k$, $Y_{nk} = 0$ otherwise.\n",
    "\n",
    "Model parameters:\n",
    "* Weight matrix $\\mathbf{W} \\in \\mathbb{R}^{D \\times K}$.\n",
    "* Bias vector $\\mathbf{b} \\in \\mathbb{R}^{K}$.\n",
    "\n",
    "Making predictions with the model:\n",
    "* Logits \n",
    "$$\\mathbf{a}_n = \\mathbf{W x}_n + \\mathbf{b}$$\n",
    "* Denote the matrix of logits as \n",
    "$$\\mathbf{A} = \\mathbf{XW} +  \\mathbf{1}_N \\mathbf{b}^T \\in \\mathbb{R}^{N \\times K}$$\n",
    "* Convert logits to probabilities using softmax function\n",
    "$$p(Y_{nk} = 1 \\mid \\mathbf{x}_n, \\mathbf{W}, \\mathbf{b}) = \\frac{\\exp(A_{nk})}{\\sum_{c = 1}^{K} \\exp(A_{nc})}$$\n",
    "\n",
    "Negative log-likelihood\n",
    "\n",
    "\n",
    "\\begin{align}\n",
    "-\\log p(\\mathbf{Y} \\mid \\mathbf{X}, \\mathbf{W}, \\mathbf{b}) &= - \\frac{1}{N}\\sum_{n=1}^{N} \\sum_{k=1}^{K} Y_{nk} \\log p(Y_{nk} = 1 \\mid \\mathbf{x}_n, \\mathbf{W}, \\mathbf{b})\\\\\n",
    "&= \\frac{1}{N} \\sum_{n=1}^{N} \\sum_{k=1}^{K} Y_{nk} \\left(-A_{nk} + \\log \\left( \\sum_{c=1}^{C} \\exp(A_{nc}) \\right) \\right)\\\\\n",
    "%&= \\frac{1}{N} \\sum_{n=1}^{N} \\left(\\sum_{k=1}^{K} -Y_{nk} A_{nk} \\right) + \\log \\left( \\sum_{c=1}^{C} \\exp(A_{nc}) \\right)\n",
    "\\end{align}\n"
   ]
  },
  {
   "cell_type": "code",
   "execution_count": 161,
   "metadata": {},
   "outputs": [],
   "source": [
    "from scipy.special import softmax"
   ]
  },
  {
   "cell_type": "code",
   "execution_count": 162,
   "metadata": {},
   "outputs": [],
   "source": [
    "def predict(X, W, b):\n",
    "    \"\"\"Generate predictions for a multi-class logistic regression model.\n",
    "\n",
    "    Args:\n",
    "        X: data matrix, shape (N, D)\n",
    "        W: weight matrix, shape (D, K)\n",
    "        b: bias vector, shape (K)\n",
    "\n",
    "    Returns:\n",
    "        Y_pred: Predicted class probabilities, shape (N, K).\n",
    "            Y_pred[n, k] = probability that sample n belongs to class k.\n",
    "    \"\"\"\n",
    "    # TODO\n",
    "    return softmax (X@W+b, axis=1)"
   ]
  },
  {
   "cell_type": "markdown",
   "metadata": {},
   "source": [
    "Negative log-likelihood of multiclass logistic regression "
   ]
  },
  {
   "cell_type": "code",
   "execution_count": 175,
   "metadata": {},
   "outputs": [],
   "source": [
    "def nll_loss(X, W, b, Y):\n",
    "    \"\"\"Compute negative log-likelihood of a logistic regression model.\n",
    "\n",
    "    Also known as categorical cross entropy loss.\n",
    "\n",
    "    Args:\n",
    "        X: data matrix, shape (N, D)\n",
    "        W: weight matrix, shape (D, K)\n",
    "        b: bias vector, shape (K)\n",
    "        Y: true labels in one-hot format, shape (N, K)\n",
    "\n",
    "    Returns:\n",
    "        loss: loss of the logistic regression model, shape ()\n",
    "    \"\"\" \n",
    "    # TODO\n",
    "    N = X.shape[0]\n",
    "    logits = X@W+b\n",
    "    logits_shifted = logits - logits.max(axis = 1, keepdims = True)\n",
    "    log_sum_up = np.log(np.sum(np.exp(logits_shifted),axis=1,keepdims=True))\n",
    "    log_probs = logits_shifted - log_sum_up#因为做完log了，否则exp时候要相除\n",
    "    loss = -np.sum(Y*log_probs)/N\n",
    "    return loss"
   ]
  },
  {
   "cell_type": "code",
   "execution_count": 177,
   "metadata": {},
   "outputs": [],
   "source": [
    "def nll_grad(X, W, b, Y):\n",
    "    \"\"\"Compute gradient of the NLL loss w.r.t. W and b.\n",
    "\n",
    "    Args:\n",
    "        X: data matrix, shape (N, D)\n",
    "        W: weight matrix, shape (D, K)\n",
    "        b: bias vector, shape (K)\n",
    "        Y: true labels in one-hot format, shape (N, K)\n",
    "\n",
    "    Returns:\n",
    "        d_W: gradient of the los w.r.t. W, shape (D, K)\n",
    "        d_b: gradient of the los w.r.t. b, shape (K)\n",
    "    \"\"\"\n",
    "    # TODO\n",
    "    N = X.shape[0]\n",
    "    probs = softmax(X@W +b,axis=1)-Y\n",
    "    d_W = X.T@probs/N\n",
    "    d_b = probs.sum(axis=0)/N\n",
    "    return d_W,d_b"
   ]
  },
  {
   "cell_type": "code",
   "execution_count": 179,
   "metadata": {},
   "outputs": [],
   "source": [
    "# Initialize learnable model parameters\n",
    "W = np.zeros([D, K])\n",
    "b = np.zeros([K])"
   ]
  },
  {
   "cell_type": "code",
   "execution_count": 181,
   "metadata": {},
   "outputs": [],
   "source": [
    "# Specify optimization parameters\n",
    "learning_rate = 1e-2\n",
    "max_epochs = 301\n",
    "report_frequency = 25"
   ]
  },
  {
   "cell_type": "code",
   "execution_count": 185,
   "metadata": {
    "scrolled": true
   },
   "outputs": [
    {
     "name": "stdout",
     "output_type": "stream",
     "text": [
      "epoch:   0, loss = 2.302585\n",
      "epoch:  25, loss = 0.341059\n",
      "epoch:  50, loss = 0.229275\n",
      "epoch:  75, loss = 0.186234\n",
      "epoch: 100, loss = 0.161038\n",
      "epoch: 125, loss = 0.143956\n",
      "epoch: 150, loss = 0.131355\n",
      "epoch: 175, loss = 0.121533\n",
      "epoch: 200, loss = 0.113577\n",
      "epoch: 225, loss = 0.106946\n",
      "epoch: 250, loss = 0.101296\n",
      "epoch: 275, loss = 0.096397\n",
      "epoch: 300, loss = 0.092090\n"
     ]
    }
   ],
   "source": [
    "for epoch in range(max_epochs):\n",
    "    # Compute train loss\n",
    "    # TODO\n",
    "    loss = nll_loss(X_train,W,b,Y_train)\n",
    "    \n",
    "    # Print train loss every `report_frequency` epochs\n",
    "    # TODO\n",
    "    if epoch %report_frequency == 0:\n",
    "        #当 epoch 是 report_frequency 的倍数时（例如 epoch = 0, 5, 10 等），条件为 True，执行打印操作。\n",
    "        print(f\"epoch:{epoch:4d}, loss = {loss:4f}\" )\n",
    "        #:4d 指定将整数按 4 位宽度右对齐，多余的部分用空格填充。\n",
    "        #:4f 指定浮点数保留 4 位小数\n",
    "    # Perform the update\n",
    "    # TODO\n",
    "    d_W,d_b = nll_grad(X_train,W,b,Y_train)\n",
    "    W=W-learning_rate*d_W\n",
    "    b=b-learning_rate*d_b"
   ]
  },
  {
   "cell_type": "code",
   "execution_count": 189,
   "metadata": {
    "scrolled": true
   },
   "outputs": [
    {
     "name": "stdout",
     "output_type": "stream",
     "text": [
      "0.1511052805399898\n",
      "0.9555555555555556\n"
     ]
    }
   ],
   "source": [
    "# Compute test loss\n",
    "# TODO\n",
    "loss_test = nll_loss(X_test, W, b,Y_test)\n",
    "print(loss_test)\n",
    "\n",
    "# Compute test accuracy\n",
    "# TODO\n",
    "y_pred = predict(X_test, W, b).argmax(axis=1)\n",
    "y_test = Y_test.argmax(axis=1)\n",
    "acc_test = accuracy_score(y_test, y_pred)\n",
    "\n",
    "# Print test loss and accuracy\n",
    "# TODO\n",
    "print(acc_test)"
   ]
  },
  {
   "cell_type": "markdown",
   "metadata": {},
   "source": [
    "# 3. Multi-class logistic regression (with backprop)"
   ]
  },
  {
   "cell_type": "code",
   "execution_count": null,
   "metadata": {},
   "outputs": [],
   "source": [
    "import nn"
   ]
  },
  {
   "cell_type": "code",
   "execution_count": null,
   "metadata": {},
   "outputs": [],
   "source": [
    "class LogisticRegression:\n",
    "    \"\"\"Logistic regression model.\n",
    "\n",
    "    Gradients are computed with backpropagation.\n",
    "    \"\"\"\n",
    "\n",
    "    def __init__(self, num_features, num_classes, learning_rate=1e-2):\n",
    "        # Initialize hyperparameters\n",
    "        # TODO\n",
    "\n",
    "        # Initialize the model parameters\n",
    "        # TODO\n",
    "\n",
    "        # Define layers\n",
    "        # TODO\n",
    "\n",
    "        # Define loss\n",
    "        # TODO\n",
    "        \n",
    "\n",
    "    def predict(self, X):\n",
    "        \"\"\"Generate predictions for one minibatch.\n",
    "\n",
    "        Args:\n",
    "            X: data matrix, shape (N, D)\n",
    "\n",
    "        Returns:\n",
    "            Y_pred: predicted class probabilities, shape (N, D)\n",
    "            Y_pred[n, k] = probability that sample n belongs to class k\n",
    "        \"\"\"\n",
    "        # TODO        \n",
    "\n",
    "    def step(self, X, Y):\n",
    "        \"\"\"Perform one step of gradient descent on the minibatch of data.\"\"\"\n",
    "        # Forward  - compute the loss on training data\n",
    "        # TODO\n",
    "\n",
    "        # Backward  - compute the gradients of loss w.r.t. all the model parameters\n",
    "        # TODO\n",
    "\n",
    "        # Apply the gradients\n",
    "        # TODO"
   ]
  },
  {
   "cell_type": "code",
   "execution_count": null,
   "metadata": {},
   "outputs": [],
   "source": [
    "# Specify optimization parameters\n",
    "learning_rate = 1e-2\n",
    "max_epochs = 301\n",
    "report_frequency = 25"
   ]
  },
  {
   "cell_type": "code",
   "execution_count": null,
   "metadata": {},
   "outputs": [],
   "source": [
    "log_reg = LogisticRegression(num_features=D, num_classes=K, learning_rate=learning_rate)"
   ]
  },
  {
   "cell_type": "code",
   "execution_count": null,
   "metadata": {},
   "outputs": [],
   "source": [
    "for epoch in range(max_epochs)\n",
    "    # Perform one step of gradient descent\n",
    "    # TODO\n",
    "\n",
    "    # Print train loss every `report_frequency` epochs\n",
    "    # TODO"
   ]
  },
  {
   "cell_type": "code",
   "execution_count": null,
   "metadata": {
    "scrolled": true
   },
   "outputs": [],
   "source": [
    "# Compute test loss\n",
    "# TODO\n",
    "\n",
    "# Compute test accuracy\n",
    "# TODO\n",
    "\n",
    "# Print test loss and accuracy\n",
    "# TODO"
   ]
  }
 ],
 "metadata": {
  "kernelspec": {
   "display_name": "Python 3 (ipykernel)",
   "language": "python",
   "name": "python3"
  },
  "language_info": {
   "codemirror_mode": {
    "name": "ipython",
    "version": 3
   },
   "file_extension": ".py",
   "mimetype": "text/x-python",
   "name": "python",
   "nbconvert_exporter": "python",
   "pygments_lexer": "ipython3",
   "version": "3.12.4"
  },
  "vscode": {
   "interpreter": {
    "hash": "b0fa6594d8f4cbf19f97940f81e996739fb7646882a419484c72d19e05852a7e"
   }
  }
 },
 "nbformat": 4,
 "nbformat_minor": 4
}
