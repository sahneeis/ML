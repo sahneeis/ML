{
 "cells": [
  {
   "cell_type": "markdown",
   "metadata": {},
   "source": [
    "# Programming task 10: Dimensionality Reduction"
   ]
  },
  {
   "cell_type": "code",
   "execution_count": 2,
   "metadata": {},
   "outputs": [],
   "source": [
    "import numpy as np\n",
    "import matplotlib.pyplot as plt\n",
    "\n",
    "%matplotlib inline"
   ]
  },
  {
   "cell_type": "markdown",
   "metadata": {},
   "source": [
    "## Exporting the results to PDF\n",
    "Once you complete the assignments, export the entire notebook as PDF and attach it to your homework solutions. \n",
    "The best way of doing that is\n",
    "1. Run all the cells of the notebook.\n",
    "2. Export/download the notebook as PDF (File -> Download as -> PDF via LaTeX (.pdf)).\n",
    "3. Concatenate your solutions for other tasks with the output of Step 2. On a Linux machine you can simply use `pdfunite`, there are similar tools for other platforms too. You can only upload a single PDF file to Moodle.\n",
    "\n",
    "Make sure you are using `nbconvert` Version 5.5 or later by running `jupyter nbconvert --version`. Older versions clip lines that exceed page width, which makes your code harder to grade."
   ]
  },
  {
   "cell_type": "markdown",
   "metadata": {},
   "source": [
    "##  PCA"
   ]
  },
  {
   "cell_type": "markdown",
   "metadata": {},
   "source": [
    "Given the data in the matrix X your tasks is to:\n",
    "* Calculate the covariance matrix $\\Sigma$.\n",
    "* Calculate eigenvalues and eigenvectors of $\\Sigma$.\n",
    "* Plot the original data $X$ and the eigenvectors to a single diagram. What do you observe? Which eigenvector corresponds to the smallest eigenvalue?\n",
    "* Determine the smallest eigenvalue and remove its corresponding eigenvector. The remaining eigenvector is the basis of a new subspace.\n",
    "* Transform all vectors in X in this new subspace by expressing all vectors in X in this new basis.\t"
   ]
  },
  {
   "cell_type": "markdown",
   "metadata": {},
   "source": [
    "### The given data X"
   ]
  },
  {
   "cell_type": "code",
   "execution_count": 4,
   "metadata": {
    "collapsed": false,
    "jupyter": {
     "outputs_hidden": false
    }
   },
   "outputs": [],
   "source": [
    "X = np.array([(-3,-2),(-2,-1),(-1,0),(0,1),\n",
    "              (1,2),(2,3),(-2,-2),(-1,-1),\n",
    "              (0,0),(1,1),(2,2), (-2,-3),\n",
    "              (-1,-2),(0,-1),(1,0), (2,1),(3,2)])"
   ]
  },
  {
   "cell_type": "markdown",
   "metadata": {},
   "source": [
    "### Task 1: Calculate the covariance matrix $\\Sigma$"
   ]
  },
  {
   "cell_type": "code",
   "execution_count": 31,
   "metadata": {},
   "outputs": [],
   "source": [
    "def get_covariance(X):\n",
    "    \"\"\"Calculates the covariance matrix of the input data.\n",
    "    \n",
    "    Parameters\n",
    "    ----------\n",
    "    X : array, shape [N, D]\n",
    "        Data matrix.\n",
    "        \n",
    "    Returns\n",
    "    -------\n",
    "    Sigma : array, shape [D, D]\n",
    "        Covariance matrix\n",
    "        \n",
    "    \"\"\"\n",
    "    # TODO\n",
    "    # 按列计算每个特征的均值\n",
    "    mean_X = np.mean(X, axis=0)\n",
    "    # 中心化数据\n",
    "    X_centered = X - mean_X\n",
    "    # 计算协方差矩阵\n",
    "    Sigma = np.dot(X_centered.T, X_centered) / (X.shape[0] - 1)\n",
    "    return Sigma\n"
   ]
  },
  {
   "cell_type": "markdown",
   "metadata": {},
   "source": [
    "### Task 2: Calculate eigenvalues and eigenvectors of  $\\Sigma$."
   ]
  },
  {
   "cell_type": "code",
   "execution_count": 39,
   "metadata": {},
   "outputs": [],
   "source": [
    "def get_eigen(S):\n",
    "    \"\"\"Calculates the eigenvalues and eigenvectors of the input matrix.\n",
    "    \n",
    "    Parameters\n",
    "    ----------\n",
    "    S : array, shape [D, D]\n",
    "        Square symmetric positive definite matrix.\n",
    "        \n",
    "    Returns\n",
    "    -------\n",
    "    L : array, shape [D]\n",
    "        Eigenvalues of S\n",
    "    U : array, shape [D, D]\n",
    "        Eigenvectors of S\n",
    "    \n",
    "    \"\"\"\n",
    "    # TODO\n",
    "    # 使用 numpy.linalg.eig 计算特征值和特征向量\n",
    "    L, U = np.linalg.eig(S)\n",
    "    return L, U\n"
   ]
  },
  {
   "cell_type": "markdown",
   "metadata": {},
   "source": [
    "### Task 3: Plot the original data X and the eigenvectors to a single diagram."
   ]
  },
  {
   "cell_type": "code",
   "execution_count": 60,
   "metadata": {
    "collapsed": false,
    "jupyter": {
     "outputs_hidden": false
    }
   },
   "outputs": [
    {
     "data": {
      "image/png": "[encoded data removed]",
      "text/plain": [
       "<Figure size 640x480 with 1 Axes>"
      ]
     },
     "metadata": {},
     "output_type": "display_data"
    }
   ],
   "source": [
    "# plot the original data\n",
    "plt.scatter(X[:, 0], X[:, 1])\n",
    "plt.axis('equal')\n",
    "\n",
    "# plot the mean of the data\n",
    "mean_d1, mean_d2 = X.mean(0)\n",
    "plt.plot(mean_d1, mean_d2, 'o', markersize=10, color='red', alpha=0.5)\n",
    "\n",
    "# calculate the covariance matrix\n",
    "Sigma = get_covariance(X)\n",
    "# calculate the eigenvector and eigenvalues of Sigma\n",
    "L, U = get_eigen(Sigma)\n",
    "\n",
    "plt.arrow(mean_d1, mean_d2, U[0, 0], U[1, 0], width=0.05, color='red', alpha=0.5)#表示第一个特征向量（列）的 x-方向和 y-方向的分量\n",
    "plt.arrow(mean_d1, mean_d2, U[0, 1], U[1, 1], width=0.05, color='red', alpha=0.5);#表示第二个特征向量（列）的 x-方向和 y-方向的分量"
   ]
  },
  {
   "cell_type": "markdown",
   "metadata": {},
   "source": [
    "What do you observe in the above plot? Which eigenvector corresponds to the smallest eigenvalue?\n",
    "\n",
    "Write your answer here:\n",
    "\n",
    "\n",
    "```\n",
    "The eigenvector with the shorter arrow corresponds to the smallest eigenvalue, as it indicates less variance along that direction.The data has a large change in variance along the upper right direction, so the eigenvalues are larger. So my answer is to extend the upper left arrow, which is the second column of the eigenmatrix.\n",
    "```"
   ]
  },
  {
   "cell_type": "markdown",
   "metadata": {},
   "source": [
    "### Task 4: Transform the data"
   ]
  },
  {
   "cell_type": "markdown",
   "metadata": {},
   "source": [
    "Determine the smallest eigenvalue and remove its corresponding eigenvector. The remaining eigenvector is the basis of a new subspace. Transform all vectors in X in this new subspace by expressing all vectors in X in this new basis."
   ]
  },
  {
   "cell_type": "code",
   "execution_count": 69,
   "metadata": {},
   "outputs": [],
   "source": [
    "def transform(X, U, L):\n",
    "    \"\"\"Transforms the data in the new subspace spanned by the eigenvector corresponding to the largest eigenvalue.\n",
    "    \n",
    "    Parameters\n",
    "    ----------\n",
    "    X : array, shape [N, D]\n",
    "        Data matrix.\n",
    "    L : array, shape [D]\n",
    "        Eigenvalues of Sigma_X\n",
    "    U : array, shape [D, D]\n",
    "        Eigenvectors of Sigma_X\n",
    "        \n",
    "    Returns\n",
    "    -------\n",
    "    X_t : array, shape [N, 1]\n",
    "        Transformed data\n",
    "        \n",
    "    \"\"\"\n",
    "    # TODO\n",
    "    # 找到最大特征值对应的索引\n",
    "    max_eigen_index = np.argmax(L)\n",
    "    # 选择最大特征值对应的特征向量\n",
    "    principal_vector = U[:, max_eigen_index]\n",
    "    # 将数据投影到该特征向量上\n",
    "    X_t = np.dot(X, principal_vector).reshape(-1, 1)\n",
    "    return X_t"
   ]
  },
  {
   "cell_type": "code",
   "execution_count": 71,
   "metadata": {
    "collapsed": false,
    "jupyter": {
     "outputs_hidden": false
    }
   },
   "outputs": [],
   "source": [
    "X_t = transform(X, U, L)"
   ]
  },
  {
   "cell_type": "code",
   "execution_count": 73,
   "metadata": {},
   "outputs": [
    {
     "data": {
      "image/png": "[encoded data removed]",
      "text/plain": [
       "<Figure size 640x480 with 1 Axes>"
      ]
     },
     "metadata": {},
     "output_type": "display_data"
    }
   ],
   "source": [
    "def visualize_transformation(X, X_t, U, L):\n",
    "    \"\"\"\n",
    "    可视化数据在主方向上的投影。\n",
    "\n",
    "    Parameters\n",
    "    ----------\n",
    "    X : array, shape [N, D]\n",
    "        原始数据矩阵\n",
    "    X_t : array, shape [N, 1]\n",
    "        投影后的数据\n",
    "    U : array, shape [D, D]\n",
    "        特征向量矩阵\n",
    "    L : array, shape [D]\n",
    "        特征值\n",
    "    \"\"\"\n",
    "    # 数据中心\n",
    "    mean_d1, mean_d2 = np.mean(X, axis=0)\n",
    "\n",
    "    # 找到最大特征值对应的索引\n",
    "    max_eigen_index = np.argmax(L)\n",
    "    principal_vector = U[:, max_eigen_index]\n",
    "\n",
    "    # 绘制原始数据点\n",
    "    plt.scatter(X[:, 0], X[:, 1], alpha=0.5, label='Original data')\n",
    "\n",
    "    # 绘制主方向\n",
    "    plt.arrow(mean_d1, mean_d2, principal_vector[0] * 3, principal_vector[1] * 3,\n",
    "              color='red', width=0.05, label='Principal direction', alpha=0.6)\n",
    "\n",
    "    # 计算投影点在原始空间的坐标\n",
    "    projections = np.dot(X, principal_vector).reshape(-1, 1) * principal_vector + [mean_d1, mean_d2]\n",
    "\n",
    "    # 绘制投影点\n",
    "    plt.scatter(projections[:, 0], projections[:, 1], color='green', alpha=0.7, label='Projections')\n",
    "\n",
    "    # 添加图例和标签\n",
    "    plt.legend()\n",
    "    plt.title('Data projection onto principal direction')\n",
    "    plt.xlabel('Feature 1')\n",
    "    plt.ylabel('Feature 2')\n",
    "    plt.axis('equal')\n",
    "    plt.show()\n",
    "\n",
    "# 示例调用\n",
    "X_t = transform(X, U, L)  # 调用 transform 函数\n",
    "visualize_transformation(X, X_t, U, L)\n"
   ]
  },
  {
   "cell_type": "markdown",
   "metadata": {},
   "source": [
    "##  SVD"
   ]
  },
  {
   "cell_type": "markdown",
   "metadata": {},
   "source": [
    "### Task 5: Given the matrix $M$ find its SVD decomposition $M= U \\cdot \\Sigma \\cdot V$ and reduce it to one dimension using the approach described in the lecture."
   ]
  },
  {
   "cell_type": "code",
   "execution_count": 77,
   "metadata": {},
   "outputs": [],
   "source": [
    "M = np.array([[1, 2], [6, 3],[0, 2]])"
   ]
  },
  {
   "cell_type": "code",
   "execution_count": 89,
   "metadata": {},
   "outputs": [],
   "source": [
    "def reduce_to_one_dimension(M):\n",
    "    \"\"\"Reduces the input matrix to one dimension using its SVD decomposition.\n",
    "    \n",
    "    Parameters\n",
    "    ----------\n",
    "    M : array, shape [N, D]\n",
    "        Input matrix.\n",
    "        \n",
    "    Returns\n",
    "    -------\n",
    "    M_t: array, shape [N, 1]\n",
    "        Reduce matrix.\n",
    "    \n",
    "    \"\"\"\n",
    "    # TODO\n",
    "    # 进行奇异值分解\n",
    "    U, S, VT = np.linalg.svd(M, full_matrices=False)\n",
    "    # 提取第一个奇异向量并投影数据\n",
    "    M_t = np.dot(M, VT.T[:, 0]).reshape(-1, 1)\n",
    "    return M_t"
   ]
  },
  {
   "cell_type": "code",
   "execution_count": 91,
   "metadata": {
    "collapsed": false,
    "jupyter": {
     "outputs_hidden": false
    }
   },
   "outputs": [],
   "source": [
    "M_t = reduce_to_one_dimension(M)"
   ]
  },
  {
   "cell_type": "code",
   "execution_count": 95,
   "metadata": {},
   "outputs": [
    {
     "data": {
      "image/png": "[encoded data removed]",
      "text/plain": [
       "<Figure size 640x480 with 1 Axes>"
      ]
     },
     "metadata": {},
     "output_type": "display_data"
    }
   ],
   "source": [
    "def visualize_svd_transformation(M, M_t):\n",
    "    \"\"\"\n",
    "    可视化数据在第一奇异向量上的投影。\n",
    "\n",
    "    Parameters\n",
    "    ----------\n",
    "    M : array, shape [N, D]\n",
    "        原始数据矩阵\n",
    "    M_t : array, shape [N, 1]\n",
    "        降维后的一维数据\n",
    "    \"\"\"\n",
    "    # 数据中心\n",
    "    mean_m1, mean_m2 = np.mean(M, axis=0)\n",
    "\n",
    "    # SVD 分解\n",
    "    U, S, VT = np.linalg.svd(M, full_matrices=False)\n",
    "\n",
    "    # 第一奇异向量\n",
    "    principal_vector = VT.T[:, 0]\n",
    "\n",
    "    # 绘制原始数据点\n",
    "    plt.scatter(M[:, 0], M[:, 1], alpha=0.5, label='Original data')\n",
    "\n",
    "    # 绘制主方向（第一奇异向量）\n",
    "    plt.arrow(mean_m1, mean_m2, principal_vector[0] * 3, principal_vector[1] * 3,\n",
    "              color='red', width=0.05, label='Principal direction (SVD)', alpha=0.6)\n",
    "\n",
    "    # 计算投影点在原始空间的坐标\n",
    "    projections = np.dot(M, principal_vector).reshape(-1, 1) * principal_vector + [mean_m1, mean_m2]\n",
    "\n",
    "    # 绘制投影点\n",
    "    plt.scatter(projections[:, 0], projections[:, 1], color='green', alpha=0.7, label='Projections')\n",
    "\n",
    "    # 添加图例和标签\n",
    "    plt.legend()\n",
    "    plt.title('Data projection onto principal direction (SVD)')\n",
    "    plt.xlabel('Feature 1')\n",
    "    plt.ylabel('Feature 2')\n",
    "    plt.axis('equal')\n",
    "    plt.show()\n",
    "\n",
    "# 示例调用\n",
    "M_t = reduce_to_one_dimension(M)  # 调用 reduce_to_one_dimension 函数\n",
    "visualize_svd_transformation(M, M_t)\n"
   ]
  },
  {
   "cell_type": "code",
   "execution_count": null,
   "metadata": {},
   "outputs": [],
   "source": []
  }
 ],
 "metadata": {
  "anaconda-cloud": {},
  "interpreter": {
   "hash": "9258b74df4fede1c869bcbc4e0335d565b0fca2c24c4c3e79d6cd4dcf626c4ec"
  },
  "kernelspec": {
   "display_name": "Python 3 (ipykernel)",
   "language": "python",
   "name": "python3"
  },
  "language_info": {
   "codemirror_mode": {
    "name": "ipython",
    "version": 3
   },
   "file_extension": ".py",
   "mimetype": "text/x-python",
   "name": "python",
   "nbconvert_exporter": "python",
   "pygments_lexer": "ipython3",
   "version": "3.12.3"
  },
  "toc": {
   "colors": {
    "hover_highlight": "#DAA520",
    "navigate_num": "#000000",
    "navigate_text": "#333333",
    "running_highlight": "#FF0000",
    "selected_highlight": "#FFD700",
    "sidebar_border": "#EEEEEE",
    "wrapper_background": "#FFFFFF"
   },
   "moveMenuLeft": true,
   "nav_menu": {
    "height": "48px",
    "width": "252px"
   },
   "navigate_menu": true,
   "number_sections": true,
   "sideBar": true,
   "threshold": 4,
   "toc_cell": false,
   "toc_section_display": "block",
   "toc_window_display": false,
   "widenNotebook": false
  }
 },
 "nbformat": 4,
 "nbformat_minor": 4
}
