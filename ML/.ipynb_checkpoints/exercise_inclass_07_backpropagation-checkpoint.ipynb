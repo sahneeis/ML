{
 "cells": [
  {
   "cell_type": "markdown",
   "metadata": {},
   "source": [
    "# In-class exercise 7: Deep Learning 1 (Part B)\n",
    "In this notebook we will gain some hands-on experience with backpropagation"
   ]
  },
  {
   "cell_type": "code",
   "execution_count": null,
   "metadata": {},
   "outputs": [],
   "source": [
    "import numpy as np\n",
    "import matplotlib.pyplot as plt\n",
    "import time\n",
    "\n",
    "%matplotlib inline\n",
    "\n",
    "from sklearn.datasets import load_digits\n",
    "from sklearn.metrics import accuracy_score\n",
    "from sklearn.model_selection import train_test_split\n",
    "from sklearn.preprocessing import label_binarize"
   ]
  },
  {
   "cell_type": "code",
   "execution_count": null,
   "metadata": {},
   "outputs": [],
   "source": [
    "X, y = load_digits(return_X_y=True)\n",
    "# Convert labels into one-hot format\n",
    "Y = label_binarize(y, classes=np.unique(y))\n",
    "K = Y.shape[1]  # number of classes\n",
    "D = X.shape[1]  # number of features\n",
    "\n",
    "np.random.seed(123)\n",
    "X_train, X_test, Y_train, Y_test = train_test_split(X, Y, test_size=0.3)"
   ]
  },
  {
   "cell_type": "markdown",
   "metadata": {},
   "source": [
    "Check shapes"
   ]
  },
  {
   "cell_type": "code",
   "execution_count": null,
   "metadata": {},
   "outputs": [],
   "source": []
  },
  {
   "cell_type": "markdown",
   "metadata": {},
   "source": [
    "# 1. Simple backpropagation example"
   ]
  },
  {
   "cell_type": "markdown",
   "metadata": {},
   "source": [
    "Addition of two vectors"
   ]
  },
  {
   "cell_type": "code",
   "execution_count": null,
   "metadata": {},
   "outputs": [],
   "source": [
    "class Add:\n",
    "    def forward(self, x, y):\n",
    "        # TODO\n",
    "\n",
    "    def backward(self, d_out):\n",
    "        # TODO"
   ]
  },
  {
   "cell_type": "markdown",
   "metadata": {},
   "source": [
    "Element-wise multiplication of two vectors"
   ]
  },
  {
   "cell_type": "code",
   "execution_count": null,
   "metadata": {},
   "outputs": [],
   "source": [
    "class Multiply:\n",
    "    def forward(self, x, y):\n",
    "        # TODO\n",
    "\n",
    "    def backward(self, d_out):\n",
    "        # TODO"
   ]
  },
  {
   "cell_type": "markdown",
   "metadata": {},
   "source": [
    "Sum of a vector"
   ]
  },
  {
   "cell_type": "code",
   "execution_count": null,
   "metadata": {},
   "outputs": [],
   "source": [
    "class Sum:\n",
    "    def forward(self, x):\n",
    "        # TODO\n",
    "\n",
    "    def backward(self, d_out):\n",
    "        # TODO"
   ]
  },
  {
   "cell_type": "markdown",
   "metadata": {},
   "source": [
    "### Dot product of two vectors as composition of multiplication and summation"
   ]
  },
  {
   "cell_type": "markdown",
   "metadata": {},
   "source": [
    "Dot product:\n",
    "$$\\mathbf{x}\\cdot\\mathbf{y} = \\sum_{i=0}^{n}x_i y_i$$"
   ]
  },
  {
   "cell_type": "code",
   "execution_count": null,
   "metadata": {},
   "outputs": [],
   "source": [
    "x = np.arange(1, 5, dtype=np.float32)\n",
    "y = np.arange(-1, 3, dtype=np.float32)"
   ]
  },
  {
   "cell_type": "code",
   "execution_count": null,
   "metadata": {},
   "outputs": [],
   "source": [
    "mult = Multiply()\n",
    "vec_sum = Sum()\n",
    "\n",
    "w = mult.forward(x, y)\n",
    "z = vec_sum.forward(w)\n",
    "\n",
    "d_w = vec_sum.backward(1.0)\n",
    "d_x, d_y = mult.backward(d_w)"
   ]
  },
  {
   "cell_type": "code",
   "execution_count": null,
   "metadata": {},
   "outputs": [],
   "source": [
    "z, d_x, d_y"
   ]
  },
  {
   "cell_type": "markdown",
   "metadata": {},
   "source": [
    "### Dot product of two vectors as one operation"
   ]
  },
  {
   "cell_type": "markdown",
   "metadata": {},
   "source": [
    "Dot product of two vectors"
   ]
  },
  {
   "cell_type": "code",
   "execution_count": null,
   "metadata": {},
   "outputs": [],
   "source": [
    "class DotProduct:\n",
    "    def forward(self, x, y):\n",
    "        # TODO\n",
    "\n",
    "    def backward(self, d_out):\n",
    "        # TODO"
   ]
  },
  {
   "cell_type": "code",
   "execution_count": null,
   "metadata": {},
   "outputs": [],
   "source": [
    "x = np.arange(1, 5, dtype=np.float32)\n",
    "y = np.arange(-1, 3, dtype=np.float32)"
   ]
  },
  {
   "cell_type": "code",
   "execution_count": null,
   "metadata": {},
   "outputs": [],
   "source": [
    "dp = DotProduct()\n",
    "z = dp.forward(x, y)\n",
    "d_x, d_y = dp.backward(1.0)"
   ]
  },
  {
   "cell_type": "code",
   "execution_count": null,
   "metadata": {},
   "outputs": [],
   "source": [
    "z, d_x, d_y"
   ]
  },
  {
   "cell_type": "markdown",
   "metadata": {},
   "source": [
    "**Lessons:**\n",
    "1. By implementing `forward` and `backward` method we can compute gradients of an arbitrary composition of functions\n",
    "2. Use `cache` to store values that will be needed in the backward \n",
    "3. Multiple operations can be combined into a single module (i.e. function)\n",
    "4.  `1.0` as `d_out` for the terminal node in our computational graph"
   ]
  },
  {
   "cell_type": "markdown",
   "metadata": {},
   "source": [
    "# 2. Multi-class logistic regression (without backprop)"
   ]
  },
  {
   "cell_type": "markdown",
   "metadata": {},
   "source": [
    "Multi-class logistic regression model\n",
    "\n",
    "Data:\n",
    "* Data matrix $\\mathbf{X} \\in \\mathbb{R}^{N \\times D}$.\n",
    "* Target labels in one-hot format $\\mathbf{Y} \\in \\mathbb{R}^{N \\times K}$.\n",
    "$Y_{nk} = 1$ if sample $n$ belongs to class $k$, $Y_{nk} = 0$ otherwise.\n",
    "\n",
    "Model parameters:\n",
    "* Weight matrix $\\mathbf{W} \\in \\mathbb{R}^{D \\times K}$.\n",
    "* Bias vector $\\mathbf{b} \\in \\mathbb{R}^{K}$.\n",
    "\n",
    "Making predictions with the model:\n",
    "* Logits \n",
    "$$\\mathbf{a}_n = \\mathbf{W x}_n + \\mathbf{b}$$\n",
    "* Denote the matrix of logits as \n",
    "$$\\mathbf{A} = \\mathbf{XW} +  \\mathbf{1}_N \\mathbf{b}^T \\in \\mathbb{R}^{N \\times K}$$\n",
    "* Convert logits to probabilities using softmax function\n",
    "$$p(Y_{nk} = 1 \\mid \\mathbf{x}_n, \\mathbf{W}, \\mathbf{b}) = \\frac{\\exp(A_{nk})}{\\sum_{c = 1}^{K} \\exp(A_{nc})}$$\n",
    "\n",
    "Negative log-likelihood\n",
    "\n",
    "\n",
    "\\begin{align}\n",
    "-\\log p(\\mathbf{Y} \\mid \\mathbf{X}, \\mathbf{W}, \\mathbf{b}) &= - \\frac{1}{N}\\sum_{n=1}^{N} \\sum_{k=1}^{K} Y_{nk} \\log p(Y_{nk} = 1 \\mid \\mathbf{x}_n, \\mathbf{W}, \\mathbf{b})\\\\\n",
    "&= \\frac{1}{N} \\sum_{n=1}^{N} \\sum_{k=1}^{K} Y_{nk} \\left(-A_{nk} + \\log \\left( \\sum_{c=1}^{C} \\exp(A_{nc}) \\right) \\right)\\\\\n",
    "%&= \\frac{1}{N} \\sum_{n=1}^{N} \\left(\\sum_{k=1}^{K} -Y_{nk} A_{nk} \\right) + \\log \\left( \\sum_{c=1}^{C} \\exp(A_{nc}) \\right)\n",
    "\\end{align}\n"
   ]
  },
  {
   "cell_type": "code",
   "execution_count": null,
   "metadata": {},
   "outputs": [],
   "source": [
    "from scipy.special import softmax"
   ]
  },
  {
   "cell_type": "code",
   "execution_count": null,
   "metadata": {},
   "outputs": [],
   "source": [
    "def predict(X, W, b):\n",
    "    \"\"\"Generate predictions for a multi-class logistic regression model.\n",
    "\n",
    "    Args:\n",
    "        X: data matrix, shape (N, D)\n",
    "        W: weight matrix, shape (D, K)\n",
    "        b: bias vector, shape (K)\n",
    "\n",
    "    Returns:\n",
    "        Y_pred: Predicted class probabilities, shape (N, K).\n",
    "            Y_pred[n, k] = probability that sample n belongs to class k.\n",
    "    \"\"\"\n",
    "    # TODO"
   ]
  },
  {
   "cell_type": "markdown",
   "metadata": {},
   "source": [
    "Negative log-likelihood of multiclass logistic regression "
   ]
  },
  {
   "cell_type": "code",
   "execution_count": null,
   "metadata": {},
   "outputs": [],
   "source": [
    "def nll_loss(X, W, b, Y):\n",
    "    \"\"\"Compute negative log-likelihood of a logistic regression model.\n",
    "\n",
    "    Also known as categorical cross entropy loss.\n",
    "\n",
    "    Args:\n",
    "        X: data matrix, shape (N, D)\n",
    "        W: weight matrix, shape (D, K)\n",
    "        b: bias vector, shape (K)\n",
    "        Y: true labels in one-hot format, shape (N, K)\n",
    "\n",
    "    Returns:\n",
    "        loss: loss of the logistic regression model, shape ()\n",
    "    \"\"\"\n",
    "    # TODO"
   ]
  },
  {
   "cell_type": "code",
   "execution_count": null,
   "metadata": {},
   "outputs": [],
   "source": [
    "def nll_grad(X, W, b, Y):\n",
    "    \"\"\"Compute gradient of the NLL loss w.r.t. W and b.\n",
    "\n",
    "    Args:\n",
    "        X: data matrix, shape (N, D)\n",
    "        W: weight matrix, shape (D, K)\n",
    "        b: bias vector, shape (K)\n",
    "        Y: true labels in one-hot format, shape (N, K)\n",
    "\n",
    "    Returns:\n",
    "        d_W: gradient of the los w.r.t. W, shape (D, K)\n",
    "        d_b: gradient of the los w.r.t. b, shape (K)\n",
    "    \"\"\"\n",
    "    # TODO"
   ]
  },
  {
   "cell_type": "code",
   "execution_count": null,
   "metadata": {},
   "outputs": [],
   "source": [
    "# Initialize learnable model parameters\n",
    "W = np.zeros([D, K])\n",
    "b = np.zeros([K])"
   ]
  },
  {
   "cell_type": "code",
   "execution_count": null,
   "metadata": {},
   "outputs": [],
   "source": [
    "# Specify optimization parameters\n",
    "learning_rate = 1e-2\n",
    "max_epochs = 301\n",
    "report_frequency = 25"
   ]
  },
  {
   "cell_type": "code",
   "execution_count": null,
   "metadata": {
    "scrolled": true
   },
   "outputs": [],
   "source": [
    "for epoch in range(max_epochs):\n",
    "    # Compute train loss\n",
    "    # TODO\n",
    "\n",
    "    # Print train loss every `report_frequency` epochs\n",
    "    # TODO\n",
    "\n",
    "    # Perform the update\n",
    "    # TODO"
   ]
  },
  {
   "cell_type": "code",
   "execution_count": null,
   "metadata": {
    "scrolled": true
   },
   "outputs": [],
   "source": [
    "# Compute test loss\n",
    "# TODO\n",
    "\n",
    "# Compute test accuracy\n",
    "# TODO\n",
    "\n",
    "# Print test loss and accuracy\n",
    "# TODO"
   ]
  },
  {
   "cell_type": "markdown",
   "metadata": {},
   "source": [
    "# 3. Multi-class logistic regression (with backprop)"
   ]
  },
  {
   "cell_type": "code",
   "execution_count": null,
   "metadata": {},
   "outputs": [],
   "source": [
    "import nn"
   ]
  },
  {
   "cell_type": "code",
   "execution_count": null,
   "metadata": {},
   "outputs": [],
   "source": [
    "class LogisticRegression:\n",
    "    \"\"\"Logistic regression model.\n",
    "\n",
    "    Gradients are computed with backpropagation.\n",
    "    \"\"\"\n",
    "\n",
    "    def __init__(self, num_features, num_classes, learning_rate=1e-2):\n",
    "        # Initialize hyperparameters\n",
    "        # TODO\n",
    "\n",
    "        # Initialize the model parameters\n",
    "        # TODO\n",
    "\n",
    "        # Define layers\n",
    "        # TODO\n",
    "\n",
    "        # Define loss\n",
    "        # TODO\n",
    "        \n",
    "\n",
    "    def predict(self, X):\n",
    "        \"\"\"Generate predictions for one minibatch.\n",
    "\n",
    "        Args:\n",
    "            X: data matrix, shape (N, D)\n",
    "\n",
    "        Returns:\n",
    "            Y_pred: predicted class probabilities, shape (N, D)\n",
    "            Y_pred[n, k] = probability that sample n belongs to class k\n",
    "        \"\"\"\n",
    "        # TODO        \n",
    "\n",
    "    def step(self, X, Y):\n",
    "        \"\"\"Perform one step of gradient descent on the minibatch of data.\"\"\"\n",
    "        # Forward  - compute the loss on training data\n",
    "        # TODO\n",
    "\n",
    "        # Backward  - compute the gradients of loss w.r.t. all the model parameters\n",
    "        # TODO\n",
    "\n",
    "        # Apply the gradients\n",
    "        # TODO"
   ]
  },
  {
   "cell_type": "code",
   "execution_count": null,
   "metadata": {},
   "outputs": [],
   "source": [
    "# Specify optimization parameters\n",
    "learning_rate = 1e-2\n",
    "max_epochs = 301\n",
    "report_frequency = 25"
   ]
  },
  {
   "cell_type": "code",
   "execution_count": null,
   "metadata": {},
   "outputs": [],
   "source": [
    "log_reg = LogisticRegression(num_features=D, num_classes=K, learning_rate=learning_rate)"
   ]
  },
  {
   "cell_type": "code",
   "execution_count": null,
   "metadata": {},
   "outputs": [],
   "source": [
    "for epoch in range(max_epochs)\n",
    "    # Perform one step of gradient descent\n",
    "    # TODO\n",
    "\n",
    "    # Print train loss every `report_frequency` epochs\n",
    "    # TODO"
   ]
  },
  {
   "cell_type": "code",
   "execution_count": null,
   "metadata": {
    "scrolled": true
   },
   "outputs": [],
   "source": [
    "# Compute test loss\n",
    "# TODO\n",
    "\n",
    "# Compute test accuracy\n",
    "# TODO\n",
    "\n",
    "# Print test loss and accuracy\n",
    "# TODO"
   ]
  }
 ],
 "metadata": {
  "kernelspec": {
   "display_name": "Python 3.9.10 64-bit",
   "language": "python",
   "name": "python3"
  },
  "language_info": {
   "codemirror_mode": {
    "name": "ipython",
    "version": 3
   },
   "file_extension": ".py",
   "mimetype": "text/x-python",
   "name": "python",
   "nbconvert_exporter": "python",
   "pygments_lexer": "ipython3",
   "version": "3.10.10"
  },
  "vscode": {
   "interpreter": {
    "hash": "b0fa6594d8f4cbf19f97940f81e996739fb7646882a419484c72d19e05852a7e"
   }
  }
 },
 "nbformat": 4,
 "nbformat_minor": 4
}
